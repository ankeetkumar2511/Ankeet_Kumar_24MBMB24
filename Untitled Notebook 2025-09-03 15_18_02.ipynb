{
 "cells": [
  {
   "cell_type": "code",
   "execution_count": 0,
   "metadata": {
    "application/vnd.databricks.v1+cell": {
     "cellMetadata": {
      "byteLimit": 2048000,
      "rowLimit": 10000
     },
     "inputWidgets": {},
     "nuid": "6ccc3592-ce70-4fec-acb2-f15798b1f188",
     "showTitle": false,
     "tableResultSettingsMap": {},
     "title": ""
    }
   },
   "outputs": [],
   "source": [
    "# Step 1: Load tables from SQL Warehouse into PySpark DataFrames\n",
    "customers_df = spark.table(\"default.customers\")  \n",
    "hotels_df = spark.table(\"default.hotels\")  \n",
    "bookings_df = spark.table(\"default.bookings\")  \n"
   ]
  },
  {
   "cell_type": "code",
   "execution_count": 0,
   "metadata": {
    "application/vnd.databricks.v1+cell": {
     "cellMetadata": {
      "byteLimit": 2048000,
      "rowLimit": 10000
     },
     "inputWidgets": {},
     "nuid": "dc6fd969-4210-4eac-90f3-33e2857f377c",
     "showTitle": false,
     "tableResultSettingsMap": {},
     "title": ""
    }
   },
   "outputs": [
    {
     "output_type": "stream",
     "name": "stdout",
     "output_type": "stream",
     "text": [
      "+--------+---------------+-----------+\n|database|tableName      |isTemporary|\n+--------+---------------+-----------+\n|default |travel_bookings|false      |\n+--------+---------------+-----------+\n\n"
     ]
    }
   ],
   "source": [
    "spark.sql(\"SHOW TABLES IN default\").show(truncate=False)"
   ]
  },
  {
   "cell_type": "code",
   "execution_count": 0,
   "metadata": {
    "application/vnd.databricks.v1+cell": {
     "cellMetadata": {
      "byteLimit": 2048000,
      "rowLimit": 10000
     },
     "inputWidgets": {},
     "nuid": "5cd148d6-fc91-447f-acc3-593c2de61ce9",
     "showTitle": false,
     "tableResultSettingsMap": {},
     "title": ""
    }
   },
   "outputs": [
    {
     "output_type": "display_data",
     "data": {
      "text/html": [
       "<style scoped>\n",
       "  .table-result-container {\n",
       "    max-height: 300px;\n",
       "    overflow: auto;\n",
       "  }\n",
       "  table, th, td {\n",
       "    border: 1px solid black;\n",
       "    border-collapse: collapse;\n",
       "  }\n",
       "  th, td {\n",
       "    padding: 5px;\n",
       "  }\n",
       "  th {\n",
       "    text-align: left;\n",
       "  }\n",
       "</style><div class='table-result-container'><table class='table-result'><thead style='background-color: white'><tr><th>booking_id</th><th>customer_id</th><th>customer_name</th><th>city</th><th>hotel_id</th><th>hotel_name</th><th>booking_date</th><th>stay_duration</th><th>amount_spent</th><th>status</th><th>rating</th></tr></thead><tbody><tr><td>1</td><td>1051</td><td>Riya</td><td>Delhi</td><td>200</td><td>ITC</td><td>2024-01-01</td><td>7</td><td>6000</td><td>Booked</td><td>2</td></tr><tr><td>2</td><td>1092</td><td>Fatima</td><td>Mumbai</td><td>218</td><td>Hotel Taj</td><td>2024-01-08</td><td>6</td><td>7052</td><td>Booked</td><td>3</td></tr><tr><td>3</td><td>1014</td><td>Riya</td><td>Bangalore</td><td>201</td><td>HolidayInn</td><td>2024-01-15</td><td>3</td><td>4738</td><td>Booked</td><td>5</td></tr><tr><td>4</td><td>1071</td><td>Riya</td><td>Mumbai</td><td>211</td><td>ITC</td><td>2024-01-22</td><td>9</td><td>7387</td><td>Booked</td><td>5</td></tr><tr><td>5</td><td>1060</td><td>Anita</td><td>Mumbai</td><td>205</td><td>Oberoi</td><td>2024-01-29</td><td>6</td><td>10002</td><td>Booked</td><td>1</td></tr><tr><td>6</td><td>1020</td><td>Fatima</td><td>Hyderabad</td><td>203</td><td>Hotel Taj</td><td>2024-02-05</td><td>6</td><td>7536</td><td>Cancelled</td><td>1</td></tr><tr><td>7</td><td>1082</td><td>Anita</td><td>Mumbai</td><td>210</td><td>Hotel Taj</td><td>2024-02-12</td><td>1</td><td>15479</td><td>Booked</td><td>2</td></tr><tr><td>8</td><td>1086</td><td>Anita</td><td>Hyderabad</td><td>216</td><td>ITC</td><td>2024-02-19</td><td>4</td><td>5913</td><td>Booked</td><td>1</td></tr><tr><td>9</td><td>1074</td><td>Fatima</td><td>Hyderabad</td><td>205</td><td>Oberoi</td><td>2024-02-26</td><td>6</td><td>19450</td><td>Booked</td><td>3</td></tr><tr><td>10</td><td>1074</td><td>Amit</td><td>Mumbai</td><td>204</td><td>Oberoi</td><td>2024-03-04</td><td>6</td><td>12636</td><td>Cancelled</td><td>5</td></tr><tr><td>11</td><td>1087</td><td>Anita</td><td>Bangalore</td><td>219</td><td>HolidayInn</td><td>2024-03-11</td><td>5</td><td>7726</td><td>Booked</td><td>2</td></tr><tr><td>12</td><td>1099</td><td>Suresh</td><td>Bangalore</td><td>201</td><td>Oberoi</td><td>2024-03-18</td><td>1</td><td>5373</td><td>Booked</td><td>1</td></tr><tr><td>13</td><td>1023</td><td>Suresh</td><td>Bangalore</td><td>205</td><td>Oberoi</td><td>2024-03-25</td><td>8</td><td>14161</td><td>Cancelled</td><td>3</td></tr><tr><td>14</td><td>1002</td><td>Riya</td><td>Bangalore</td><td>210</td><td>Oberoi</td><td>2024-04-01</td><td>5</td><td>4082</td><td>Cancelled</td><td>3</td></tr><tr><td>15</td><td>1021</td><td>Suresh</td><td>Bangalore</td><td>215</td><td>Marriott</td><td>2024-04-08</td><td>5</td><td>18281</td><td>Cancelled</td><td>1</td></tr><tr><td>16</td><td>1052</td><td>Riya</td><td>Mumbai</td><td>215</td><td>HolidayInn</td><td>2024-04-15</td><td>7</td><td>17305</td><td>Booked</td><td>5</td></tr><tr><td>17</td><td>1001</td><td>Amit</td><td>Mumbai</td><td>200</td><td>Hotel Taj</td><td>2024-04-22</td><td>4</td><td>11817</td><td>Booked</td><td>1</td></tr><tr><td>18</td><td>1087</td><td>Fatima</td><td>Delhi</td><td>208</td><td>ITC</td><td>2024-04-29</td><td>6</td><td>13261</td><td>Booked</td><td>2</td></tr><tr><td>19</td><td>1029</td><td>Fatima</td><td>Bangalore</td><td>205</td><td>Hotel Taj</td><td>2024-05-06</td><td>4</td><td>2417</td><td>Booked</td><td>1</td></tr><tr><td>20</td><td>1037</td><td>Fatima</td><td>Mumbai</td><td>215</td><td>HolidayInn</td><td>2024-05-13</td><td>3</td><td>10808</td><td>Booked</td><td>3</td></tr><tr><td>21</td><td>1001</td><td>Suresh</td><td>Delhi</td><td>202</td><td>ITC</td><td>2024-05-20</td><td>7</td><td>5267</td><td>Booked</td><td>1</td></tr><tr><td>22</td><td>1063</td><td>Amit</td><td>Bangalore</td><td>219</td><td>HolidayInn</td><td>2024-05-27</td><td>8</td><td>19209</td><td>Cancelled</td><td>5</td></tr><tr><td>23</td><td>1059</td><td>Suresh</td><td>Hyderabad</td><td>203</td><td>Oberoi</td><td>2024-06-03</td><td>4</td><td>7745</td><td>Booked</td><td>4</td></tr><tr><td>24</td><td>1020</td><td>Suresh</td><td>Delhi</td><td>218</td><td>ITC</td><td>2024-06-10</td><td>2</td><td>13338</td><td>Booked</td><td>1</td></tr><tr><td>25</td><td>1032</td><td>Amit</td><td>Mumbai</td><td>202</td><td>Oberoi</td><td>2024-06-17</td><td>3</td><td>2412</td><td>Booked</td><td>5</td></tr><tr><td>26</td><td>1075</td><td>Amit</td><td>Hyderabad</td><td>218</td><td>Hotel Taj</td><td>2024-06-24</td><td>1</td><td>9543</td><td>Booked</td><td>5</td></tr><tr><td>27</td><td>1057</td><td>Amit</td><td>Hyderabad</td><td>219</td><td>Hotel Taj</td><td>2024-07-01</td><td>8</td><td>9587</td><td>Booked</td><td>3</td></tr><tr><td>28</td><td>1021</td><td>Amit</td><td>Hyderabad</td><td>206</td><td>ITC</td><td>2024-07-08</td><td>3</td><td>2728</td><td>Booked</td><td>5</td></tr><tr><td>29</td><td>1088</td><td>Fatima</td><td>Delhi</td><td>219</td><td>ITC</td><td>2024-07-15</td><td>7</td><td>13657</td><td>Booked</td><td>5</td></tr><tr><td>30</td><td>1048</td><td>John</td><td>Mumbai</td><td>208</td><td>HolidayInn</td><td>2024-07-22</td><td>5</td><td>7988</td><td>Booked</td><td>5</td></tr><tr><td>31</td><td>1090</td><td>John</td><td>Hyderabad</td><td>200</td><td>HolidayInn</td><td>2024-07-29</td><td>5</td><td>4967</td><td>Booked</td><td>5</td></tr><tr><td>32</td><td>1058</td><td>Amit</td><td>Bangalore</td><td>207</td><td>Oberoi</td><td>2024-08-05</td><td>7</td><td>16527</td><td>Booked</td><td>2</td></tr><tr><td>33</td><td>1041</td><td>John</td><td>Hyderabad</td><td>206</td><td>ITC</td><td>2024-08-12</td><td>9</td><td>18048</td><td>Cancelled</td><td>2</td></tr><tr><td>34</td><td>1091</td><td>John</td><td>Hyderabad</td><td>217</td><td>Hotel Taj</td><td>2024-08-19</td><td>5</td><td>19506</td><td>Booked</td><td>3</td></tr><tr><td>35</td><td>1059</td><td>Amit</td><td>Delhi</td><td>207</td><td>HolidayInn</td><td>2024-08-26</td><td>1</td><td>19955</td><td>Booked</td><td>1</td></tr><tr><td>36</td><td>1079</td><td>John</td><td>Delhi</td><td>200</td><td>HolidayInn</td><td>2024-09-02</td><td>1</td><td>7073</td><td>Cancelled</td><td>5</td></tr><tr><td>37</td><td>1014</td><td>Suresh</td><td>Mumbai</td><td>210</td><td>Hotel Taj</td><td>2024-09-09</td><td>2</td><td>7104</td><td>Booked</td><td>1</td></tr><tr><td>38</td><td>1061</td><td>Riya</td><td>Bangalore</td><td>217</td><td>HolidayInn</td><td>2024-09-16</td><td>6</td><td>4143</td><td>Cancelled</td><td>1</td></tr><tr><td>39</td><td>1061</td><td>Riya</td><td>Delhi</td><td>209</td><td>Oberoi</td><td>2024-09-23</td><td>9</td><td>9357</td><td>Booked</td><td>3</td></tr><tr><td>40</td><td>1046</td><td>Amit</td><td>Hyderabad</td><td>202</td><td>ITC</td><td>2024-09-30</td><td>8</td><td>14043</td><td>Cancelled</td><td>5</td></tr><tr><td>41</td><td>1061</td><td>Fatima</td><td>Mumbai</td><td>206</td><td>Hotel Taj</td><td>2024-10-07</td><td>5</td><td>5440</td><td>Booked</td><td>5</td></tr><tr><td>42</td><td>1050</td><td>Amit</td><td>Hyderabad</td><td>215</td><td>ITC</td><td>2024-10-14</td><td>1</td><td>7644</td><td>Cancelled</td><td>4</td></tr><tr><td>43</td><td>1054</td><td>Fatima</td><td>Hyderabad</td><td>215</td><td>HolidayInn</td><td>2024-10-21</td><td>7</td><td>12518</td><td>Booked</td><td>1</td></tr><tr><td>44</td><td>1063</td><td>Riya</td><td>Delhi</td><td>219</td><td>HolidayInn</td><td>2024-10-28</td><td>5</td><td>16552</td><td>Cancelled</td><td>1</td></tr><tr><td>45</td><td>1002</td><td>Amit</td><td>Mumbai</td><td>216</td><td>Hotel Taj</td><td>2024-11-04</td><td>6</td><td>4914</td><td>Booked</td><td>2</td></tr><tr><td>46</td><td>1050</td><td>Anita</td><td>Bangalore</td><td>201</td><td>Oberoi</td><td>2024-11-11</td><td>7</td><td>15584</td><td>Booked</td><td>4</td></tr><tr><td>47</td><td>1006</td><td>Suresh</td><td>Bangalore</td><td>200</td><td>Marriott</td><td>2024-11-18</td><td>3</td><td>14144</td><td>Cancelled</td><td>2</td></tr><tr><td>48</td><td>1020</td><td>John</td><td>Delhi</td><td>215</td><td>Hotel Taj</td><td>2024-11-25</td><td>3</td><td>16397</td><td>Booked</td><td>2</td></tr><tr><td>49</td><td>1072</td><td>Fatima</td><td>Delhi</td><td>211</td><td>Marriott</td><td>2024-12-02</td><td>5</td><td>10787</td><td>Booked</td><td>2</td></tr><tr><td>50</td><td>1038</td><td>Anita</td><td>Mumbai</td><td>204</td><td>Marriott</td><td>2024-12-09</td><td>6</td><td>16191</td><td>Booked</td><td>3</td></tr><tr><td>51</td><td>1017</td><td>John</td><td>Bangalore</td><td>204</td><td>Oberoi</td><td>2024-12-16</td><td>9</td><td>2728</td><td>Booked</td><td>3</td></tr><tr><td>52</td><td>1003</td><td>John</td><td>Bangalore</td><td>208</td><td>Marriott</td><td>2024-12-23</td><td>5</td><td>19749</td><td>Booked</td><td>2</td></tr><tr><td>53</td><td>1088</td><td>Amit</td><td>Bangalore</td><td>208</td><td>Marriott</td><td>2024-12-30</td><td>1</td><td>2698</td><td>Booked</td><td>4</td></tr><tr><td>54</td><td>1059</td><td>John</td><td>Hyderabad</td><td>202</td><td>Oberoi</td><td>2025-01-06</td><td>4</td><td>9186</td><td>Cancelled</td><td>1</td></tr><tr><td>55</td><td>1013</td><td>Suresh</td><td>Bangalore</td><td>218</td><td>Marriott</td><td>2025-01-13</td><td>5</td><td>16512</td><td>Booked</td><td>4</td></tr><tr><td>56</td><td>1008</td><td>Anita</td><td>Hyderabad</td><td>215</td><td>Marriott</td><td>2025-01-20</td><td>5</td><td>15923</td><td>Booked</td><td>5</td></tr><tr><td>57</td><td>1089</td><td>John</td><td>Mumbai</td><td>215</td><td>Marriott</td><td>2025-01-27</td><td>7</td><td>18779</td><td>Cancelled</td><td>3</td></tr><tr><td>58</td><td>1052</td><td>Amit</td><td>Hyderabad</td><td>202</td><td>Hotel Taj</td><td>2025-02-03</td><td>4</td><td>9400</td><td>Cancelled</td><td>1</td></tr><tr><td>59</td><td>1001</td><td>Suresh</td><td>Mumbai</td><td>219</td><td>Hotel Taj</td><td>2025-02-10</td><td>1</td><td>6171</td><td>Booked</td><td>1</td></tr><tr><td>60</td><td>1083</td><td>Riya</td><td>Bangalore</td><td>200</td><td>Hotel Taj</td><td>2025-02-17</td><td>5</td><td>6360</td><td>Booked</td><td>5</td></tr><tr><td>61</td><td>1091</td><td>Anita</td><td>Bangalore</td><td>219</td><td>Oberoi</td><td>2025-02-24</td><td>7</td><td>4502</td><td>Booked</td><td>5</td></tr><tr><td>62</td><td>1059</td><td>John</td><td>Mumbai</td><td>210</td><td>HolidayInn</td><td>2025-03-03</td><td>6</td><td>19101</td><td>Booked</td><td>2</td></tr><tr><td>63</td><td>1070</td><td>Amit</td><td>Delhi</td><td>216</td><td>Marriott</td><td>2025-03-10</td><td>5</td><td>7486</td><td>Booked</td><td>3</td></tr><tr><td>64</td><td>1043</td><td>Riya</td><td>Mumbai</td><td>207</td><td>Marriott</td><td>2025-03-17</td><td>4</td><td>10335</td><td>Booked</td><td>3</td></tr><tr><td>65</td><td>1007</td><td>Riya</td><td>Delhi</td><td>203</td><td>Oberoi</td><td>2025-03-24</td><td>2</td><td>6491</td><td>Booked</td><td>4</td></tr><tr><td>66</td><td>1046</td><td>Fatima</td><td>Hyderabad</td><td>205</td><td>Marriott</td><td>2025-03-31</td><td>4</td><td>13130</td><td>Booked</td><td>2</td></tr><tr><td>67</td><td>1034</td><td>Suresh</td><td>Hyderabad</td><td>207</td><td>Hotel Taj</td><td>2025-04-07</td><td>3</td><td>9651</td><td>Cancelled</td><td>2</td></tr><tr><td>68</td><td>1077</td><td>John</td><td>Hyderabad</td><td>219</td><td>HolidayInn</td><td>2025-04-14</td><td>1</td><td>3167</td><td>Cancelled</td><td>2</td></tr><tr><td>69</td><td>1080</td><td>Amit</td><td>Bangalore</td><td>202</td><td>ITC</td><td>2025-04-21</td><td>8</td><td>3062</td><td>Booked</td><td>2</td></tr><tr><td>70</td><td>1035</td><td>Fatima</td><td>Hyderabad</td><td>215</td><td>Marriott</td><td>2025-04-28</td><td>5</td><td>13174</td><td>Booked</td><td>3</td></tr><tr><td>71</td><td>1049</td><td>Suresh</td><td>Delhi</td><td>202</td><td>Hotel Taj</td><td>2025-05-05</td><td>4</td><td>6729</td><td>Booked</td><td>3</td></tr><tr><td>72</td><td>1003</td><td>Fatima</td><td>Hyderabad</td><td>217</td><td>ITC</td><td>2025-05-12</td><td>8</td><td>11348</td><td>Cancelled</td><td>2</td></tr><tr><td>73</td><td>1001</td><td>Anita</td><td>Mumbai</td><td>213</td><td>HolidayInn</td><td>2025-05-19</td><td>7</td><td>7334</td><td>Booked</td><td>4</td></tr><tr><td>74</td><td>1005</td><td>Suresh</td><td>Mumbai</td><td>217</td><td>ITC</td><td>2025-05-26</td><td>2</td><td>10924</td><td>Booked</td><td>1</td></tr><tr><td>75</td><td>1053</td><td>Suresh</td><td>Bangalore</td><td>201</td><td>Hotel Taj</td><td>2025-06-02</td><td>1</td><td>6330</td><td>Cancelled</td><td>1</td></tr><tr><td>76</td><td>1003</td><td>John</td><td>Mumbai</td><td>202</td><td>ITC</td><td>2025-06-09</td><td>4</td><td>8801</td><td>Cancelled</td><td>4</td></tr><tr><td>77</td><td>1053</td><td>Suresh</td><td>Delhi</td><td>215</td><td>Oberoi</td><td>2025-06-16</td><td>8</td><td>6846</td><td>Cancelled</td><td>2</td></tr><tr><td>78</td><td>1092</td><td>Fatima</td><td>Hyderabad</td><td>208</td><td>ITC</td><td>2025-06-23</td><td>2</td><td>8731</td><td>Booked</td><td>3</td></tr><tr><td>79</td><td>1062</td><td>Suresh</td><td>Bangalore</td><td>203</td><td>Marriott</td><td>2025-06-30</td><td>3</td><td>17368</td><td>Booked</td><td>1</td></tr><tr><td>80</td><td>1017</td><td>John</td><td>Hyderabad</td><td>200</td><td>Marriott</td><td>2025-07-07</td><td>1</td><td>19337</td><td>Booked</td><td>5</td></tr></tbody></table></div>"
      ]
     },
     "metadata": {
      "application/vnd.databricks.v1+output": {
       "addedWidgets": {},
       "aggData": [],
       "aggError": "",
       "aggOverflow": false,
       "aggSchema": [],
       "aggSeriesLimitReached": false,
       "aggType": "",
       "arguments": {},
       "columnCustomDisplayInfos": {},
       "data": [
        [
         1,
         1051,
         "Riya",
         "Delhi",
         200,
         "ITC",
         "2024-01-01",
         7,
         6000,
         "Booked",
         2
        ],
        [
         2,
         1092,
         "Fatima",
         "Mumbai",
         218,
         "Hotel Taj",
         "2024-01-08",
         6,
         7052,
         "Booked",
         3
        ],
        [
         3,
         1014,
         "Riya",
         "Bangalore",
         201,
         "HolidayInn",
         "2024-01-15",
         3,
         4738,
         "Booked",
         5
        ],
        [
         4,
         1071,
         "Riya",
         "Mumbai",
         211,
         "ITC",
         "2024-01-22",
         9,
         7387,
         "Booked",
         5
        ],
        [
         5,
         1060,
         "Anita",
         "Mumbai",
         205,
         "Oberoi",
         "2024-01-29",
         6,
         10002,
         "Booked",
         1
        ],
        [
         6,
         1020,
         "Fatima",
         "Hyderabad",
         203,
         "Hotel Taj",
         "2024-02-05",
         6,
         7536,
         "Cancelled",
         1
        ],
        [
         7,
         1082,
         "Anita",
         "Mumbai",
         210,
         "Hotel Taj",
         "2024-02-12",
         1,
         15479,
         "Booked",
         2
        ],
        [
         8,
         1086,
         "Anita",
         "Hyderabad",
         216,
         "ITC",
         "2024-02-19",
         4,
         5913,
         "Booked",
         1
        ],
        [
         9,
         1074,
         "Fatima",
         "Hyderabad",
         205,
         "Oberoi",
         "2024-02-26",
         6,
         19450,
         "Booked",
         3
        ],
        [
         10,
         1074,
         "Amit",
         "Mumbai",
         204,
         "Oberoi",
         "2024-03-04",
         6,
         12636,
         "Cancelled",
         5
        ],
        [
         11,
         1087,
         "Anita",
         "Bangalore",
         219,
         "HolidayInn",
         "2024-03-11",
         5,
         7726,
         "Booked",
         2
        ],
        [
         12,
         1099,
         "Suresh",
         "Bangalore",
         201,
         "Oberoi",
         "2024-03-18",
         1,
         5373,
         "Booked",
         1
        ],
        [
         13,
         1023,
         "Suresh",
         "Bangalore",
         205,
         "Oberoi",
         "2024-03-25",
         8,
         14161,
         "Cancelled",
         3
        ],
        [
         14,
         1002,
         "Riya",
         "Bangalore",
         210,
         "Oberoi",
         "2024-04-01",
         5,
         4082,
         "Cancelled",
         3
        ],
        [
         15,
         1021,
         "Suresh",
         "Bangalore",
         215,
         "Marriott",
         "2024-04-08",
         5,
         18281,
         "Cancelled",
         1
        ],
        [
         16,
         1052,
         "Riya",
         "Mumbai",
         215,
         "HolidayInn",
         "2024-04-15",
         7,
         17305,
         "Booked",
         5
        ],
        [
         17,
         1001,
         "Amit",
         "Mumbai",
         200,
         "Hotel Taj",
         "2024-04-22",
         4,
         11817,
         "Booked",
         1
        ],
        [
         18,
         1087,
         "Fatima",
         "Delhi",
         208,
         "ITC",
         "2024-04-29",
         6,
         13261,
         "Booked",
         2
        ],
        [
         19,
         1029,
         "Fatima",
         "Bangalore",
         205,
         "Hotel Taj",
         "2024-05-06",
         4,
         2417,
         "Booked",
         1
        ],
        [
         20,
         1037,
         "Fatima",
         "Mumbai",
         215,
         "HolidayInn",
         "2024-05-13",
         3,
         10808,
         "Booked",
         3
        ],
        [
         21,
         1001,
         "Suresh",
         "Delhi",
         202,
         "ITC",
         "2024-05-20",
         7,
         5267,
         "Booked",
         1
        ],
        [
         22,
         1063,
         "Amit",
         "Bangalore",
         219,
         "HolidayInn",
         "2024-05-27",
         8,
         19209,
         "Cancelled",
         5
        ],
        [
         23,
         1059,
         "Suresh",
         "Hyderabad",
         203,
         "Oberoi",
         "2024-06-03",
         4,
         7745,
         "Booked",
         4
        ],
        [
         24,
         1020,
         "Suresh",
         "Delhi",
         218,
         "ITC",
         "2024-06-10",
         2,
         13338,
         "Booked",
         1
        ],
        [
         25,
         1032,
         "Amit",
         "Mumbai",
         202,
         "Oberoi",
         "2024-06-17",
         3,
         2412,
         "Booked",
         5
        ],
        [
         26,
         1075,
         "Amit",
         "Hyderabad",
         218,
         "Hotel Taj",
         "2024-06-24",
         1,
         9543,
         "Booked",
         5
        ],
        [
         27,
         1057,
         "Amit",
         "Hyderabad",
         219,
         "Hotel Taj",
         "2024-07-01",
         8,
         9587,
         "Booked",
         3
        ],
        [
         28,
         1021,
         "Amit",
         "Hyderabad",
         206,
         "ITC",
         "2024-07-08",
         3,
         2728,
         "Booked",
         5
        ],
        [
         29,
         1088,
         "Fatima",
         "Delhi",
         219,
         "ITC",
         "2024-07-15",
         7,
         13657,
         "Booked",
         5
        ],
        [
         30,
         1048,
         "John",
         "Mumbai",
         208,
         "HolidayInn",
         "2024-07-22",
         5,
         7988,
         "Booked",
         5
        ],
        [
         31,
         1090,
         "John",
         "Hyderabad",
         200,
         "HolidayInn",
         "2024-07-29",
         5,
         4967,
         "Booked",
         5
        ],
        [
         32,
         1058,
         "Amit",
         "Bangalore",
         207,
         "Oberoi",
         "2024-08-05",
         7,
         16527,
         "Booked",
         2
        ],
        [
         33,
         1041,
         "John",
         "Hyderabad",
         206,
         "ITC",
         "2024-08-12",
         9,
         18048,
         "Cancelled",
         2
        ],
        [
         34,
         1091,
         "John",
         "Hyderabad",
         217,
         "Hotel Taj",
         "2024-08-19",
         5,
         19506,
         "Booked",
         3
        ],
        [
         35,
         1059,
         "Amit",
         "Delhi",
         207,
         "HolidayInn",
         "2024-08-26",
         1,
         19955,
         "Booked",
         1
        ],
        [
         36,
         1079,
         "John",
         "Delhi",
         200,
         "HolidayInn",
         "2024-09-02",
         1,
         7073,
         "Cancelled",
         5
        ],
        [
         37,
         1014,
         "Suresh",
         "Mumbai",
         210,
         "Hotel Taj",
         "2024-09-09",
         2,
         7104,
         "Booked",
         1
        ],
        [
         38,
         1061,
         "Riya",
         "Bangalore",
         217,
         "HolidayInn",
         "2024-09-16",
         6,
         4143,
         "Cancelled",
         1
        ],
        [
         39,
         1061,
         "Riya",
         "Delhi",
         209,
         "Oberoi",
         "2024-09-23",
         9,
         9357,
         "Booked",
         3
        ],
        [
         40,
         1046,
         "Amit",
         "Hyderabad",
         202,
         "ITC",
         "2024-09-30",
         8,
         14043,
         "Cancelled",
         5
        ],
        [
         41,
         1061,
         "Fatima",
         "Mumbai",
         206,
         "Hotel Taj",
         "2024-10-07",
         5,
         5440,
         "Booked",
         5
        ],
        [
         42,
         1050,
         "Amit",
         "Hyderabad",
         215,
         "ITC",
         "2024-10-14",
         1,
         7644,
         "Cancelled",
         4
        ],
        [
         43,
         1054,
         "Fatima",
         "Hyderabad",
         215,
         "HolidayInn",
         "2024-10-21",
         7,
         12518,
         "Booked",
         1
        ],
        [
         44,
         1063,
         "Riya",
         "Delhi",
         219,
         "HolidayInn",
         "2024-10-28",
         5,
         16552,
         "Cancelled",
         1
        ],
        [
         45,
         1002,
         "Amit",
         "Mumbai",
         216,
         "Hotel Taj",
         "2024-11-04",
         6,
         4914,
         "Booked",
         2
        ],
        [
         46,
         1050,
         "Anita",
         "Bangalore",
         201,
         "Oberoi",
         "2024-11-11",
         7,
         15584,
         "Booked",
         4
        ],
        [
         47,
         1006,
         "Suresh",
         "Bangalore",
         200,
         "Marriott",
         "2024-11-18",
         3,
         14144,
         "Cancelled",
         2
        ],
        [
         48,
         1020,
         "John",
         "Delhi",
         215,
         "Hotel Taj",
         "2024-11-25",
         3,
         16397,
         "Booked",
         2
        ],
        [
         49,
         1072,
         "Fatima",
         "Delhi",
         211,
         "Marriott",
         "2024-12-02",
         5,
         10787,
         "Booked",
         2
        ],
        [
         50,
         1038,
         "Anita",
         "Mumbai",
         204,
         "Marriott",
         "2024-12-09",
         6,
         16191,
         "Booked",
         3
        ],
        [
         51,
         1017,
         "John",
         "Bangalore",
         204,
         "Oberoi",
         "2024-12-16",
         9,
         2728,
         "Booked",
         3
        ],
        [
         52,
         1003,
         "John",
         "Bangalore",
         208,
         "Marriott",
         "2024-12-23",
         5,
         19749,
         "Booked",
         2
        ],
        [
         53,
         1088,
         "Amit",
         "Bangalore",
         208,
         "Marriott",
         "2024-12-30",
         1,
         2698,
         "Booked",
         4
        ],
        [
         54,
         1059,
         "John",
         "Hyderabad",
         202,
         "Oberoi",
         "2025-01-06",
         4,
         9186,
         "Cancelled",
         1
        ],
        [
         55,
         1013,
         "Suresh",
         "Bangalore",
         218,
         "Marriott",
         "2025-01-13",
         5,
         16512,
         "Booked",
         4
        ],
        [
         56,
         1008,
         "Anita",
         "Hyderabad",
         215,
         "Marriott",
         "2025-01-20",
         5,
         15923,
         "Booked",
         5
        ],
        [
         57,
         1089,
         "John",
         "Mumbai",
         215,
         "Marriott",
         "2025-01-27",
         7,
         18779,
         "Cancelled",
         3
        ],
        [
         58,
         1052,
         "Amit",
         "Hyderabad",
         202,
         "Hotel Taj",
         "2025-02-03",
         4,
         9400,
         "Cancelled",
         1
        ],
        [
         59,
         1001,
         "Suresh",
         "Mumbai",
         219,
         "Hotel Taj",
         "2025-02-10",
         1,
         6171,
         "Booked",
         1
        ],
        [
         60,
         1083,
         "Riya",
         "Bangalore",
         200,
         "Hotel Taj",
         "2025-02-17",
         5,
         6360,
         "Booked",
         5
        ],
        [
         61,
         1091,
         "Anita",
         "Bangalore",
         219,
         "Oberoi",
         "2025-02-24",
         7,
         4502,
         "Booked",
         5
        ],
        [
         62,
         1059,
         "John",
         "Mumbai",
         210,
         "HolidayInn",
         "2025-03-03",
         6,
         19101,
         "Booked",
         2
        ],
        [
         63,
         1070,
         "Amit",
         "Delhi",
         216,
         "Marriott",
         "2025-03-10",
         5,
         7486,
         "Booked",
         3
        ],
        [
         64,
         1043,
         "Riya",
         "Mumbai",
         207,
         "Marriott",
         "2025-03-17",
         4,
         10335,
         "Booked",
         3
        ],
        [
         65,
         1007,
         "Riya",
         "Delhi",
         203,
         "Oberoi",
         "2025-03-24",
         2,
         6491,
         "Booked",
         4
        ],
        [
         66,
         1046,
         "Fatima",
         "Hyderabad",
         205,
         "Marriott",
         "2025-03-31",
         4,
         13130,
         "Booked",
         2
        ],
        [
         67,
         1034,
         "Suresh",
         "Hyderabad",
         207,
         "Hotel Taj",
         "2025-04-07",
         3,
         9651,
         "Cancelled",
         2
        ],
        [
         68,
         1077,
         "John",
         "Hyderabad",
         219,
         "HolidayInn",
         "2025-04-14",
         1,
         3167,
         "Cancelled",
         2
        ],
        [
         69,
         1080,
         "Amit",
         "Bangalore",
         202,
         "ITC",
         "2025-04-21",
         8,
         3062,
         "Booked",
         2
        ],
        [
         70,
         1035,
         "Fatima",
         "Hyderabad",
         215,
         "Marriott",
         "2025-04-28",
         5,
         13174,
         "Booked",
         3
        ],
        [
         71,
         1049,
         "Suresh",
         "Delhi",
         202,
         "Hotel Taj",
         "2025-05-05",
         4,
         6729,
         "Booked",
         3
        ],
        [
         72,
         1003,
         "Fatima",
         "Hyderabad",
         217,
         "ITC",
         "2025-05-12",
         8,
         11348,
         "Cancelled",
         2
        ],
        [
         73,
         1001,
         "Anita",
         "Mumbai",
         213,
         "HolidayInn",
         "2025-05-19",
         7,
         7334,
         "Booked",
         4
        ],
        [
         74,
         1005,
         "Suresh",
         "Mumbai",
         217,
         "ITC",
         "2025-05-26",
         2,
         10924,
         "Booked",
         1
        ],
        [
         75,
         1053,
         "Suresh",
         "Bangalore",
         201,
         "Hotel Taj",
         "2025-06-02",
         1,
         6330,
         "Cancelled",
         1
        ],
        [
         76,
         1003,
         "John",
         "Mumbai",
         202,
         "ITC",
         "2025-06-09",
         4,
         8801,
         "Cancelled",
         4
        ],
        [
         77,
         1053,
         "Suresh",
         "Delhi",
         215,
         "Oberoi",
         "2025-06-16",
         8,
         6846,
         "Cancelled",
         2
        ],
        [
         78,
         1092,
         "Fatima",
         "Hyderabad",
         208,
         "ITC",
         "2025-06-23",
         2,
         8731,
         "Booked",
         3
        ],
        [
         79,
         1062,
         "Suresh",
         "Bangalore",
         203,
         "Marriott",
         "2025-06-30",
         3,
         17368,
         "Booked",
         1
        ],
        [
         80,
         1017,
         "John",
         "Hyderabad",
         200,
         "Marriott",
         "2025-07-07",
         1,
         19337,
         "Booked",
         5
        ]
       ],
       "datasetInfos": [],
       "dbfsResultPath": null,
       "isJsonSchema": true,
       "metadata": {},
       "overflow": false,
       "plotOptions": {
        "customPlotOptions": {},
        "displayType": "table",
        "pivotAggregation": null,
        "pivotColumns": null,
        "xColumns": null,
        "yColumns": null
       },
       "removedWidgets": [],
       "schema": [
        {
         "metadata": "{}",
         "name": "booking_id",
         "type": "\"long\""
        },
        {
         "metadata": "{}",
         "name": "customer_id",
         "type": "\"long\""
        },
        {
         "metadata": "{}",
         "name": "customer_name",
         "type": "\"string\""
        },
        {
         "metadata": "{}",
         "name": "city",
         "type": "\"string\""
        },
        {
         "metadata": "{}",
         "name": "hotel_id",
         "type": "\"long\""
        },
        {
         "metadata": "{}",
         "name": "hotel_name",
         "type": "\"string\""
        },
        {
         "metadata": "{\"__detected_date_formats\": \"d-M-yyyy\"}",
         "name": "booking_date",
         "type": "\"date\""
        },
        {
         "metadata": "{}",
         "name": "stay_duration",
         "type": "\"long\""
        },
        {
         "metadata": "{}",
         "name": "amount_spent",
         "type": "\"long\""
        },
        {
         "metadata": "{}",
         "name": "status",
         "type": "\"string\""
        },
        {
         "metadata": "{}",
         "name": "rating",
         "type": "\"long\""
        }
       ],
       "type": "table"
      }
     },
     "output_type": "display_data"
    }
   ],
   "source": [
    "bookings_df = spark.table(\"default.travel_bookings\")\n",
    "display(bookings_df)"
   ]
  },
  {
   "cell_type": "code",
   "execution_count": 0,
   "metadata": {
    "application/vnd.databricks.v1+cell": {
     "cellMetadata": {
      "byteLimit": 2048000,
      "rowLimit": 10000
     },
     "inputWidgets": {},
     "nuid": "2f6cb3de-82c0-4058-9cba-d7f920aaa82c",
     "showTitle": false,
     "tableResultSettingsMap": {},
     "title": ""
    }
   },
   "outputs": [
    {
     "output_type": "display_data",
     "data": {
      "text/html": [
       "<style scoped>\n",
       "  .table-result-container {\n",
       "    max-height: 300px;\n",
       "    overflow: auto;\n",
       "  }\n",
       "  table, th, td {\n",
       "    border: 1px solid black;\n",
       "    border-collapse: collapse;\n",
       "  }\n",
       "  th, td {\n",
       "    padding: 5px;\n",
       "  }\n",
       "  th {\n",
       "    text-align: left;\n",
       "  }\n",
       "</style><div class='table-result-container'><table class='table-result'><thead style='background-color: white'><tr><th>hotel_id</th><th>total_revenue</th></tr></thead><tbody><tr><td>203</td><td>39140</td></tr><tr><td>210</td><td>45766</td></tr><tr><td>208</td><td>52427</td></tr><tr><td>207</td><td>56468</td></tr><tr><td>215</td><td>137675</td></tr><tr><td>216</td><td>18313</td></tr><tr><td>205</td><td>59160</td></tr><tr><td>201</td><td>32025</td></tr><tr><td>211</td><td>18174</td></tr><tr><td>217</td><td>45921</td></tr><tr><td>202</td><td>58900</td></tr><tr><td>206</td><td>26216</td></tr><tr><td>204</td><td>31555</td></tr><tr><td>209</td><td>9357</td></tr><tr><td>218</td><td>46445</td></tr><tr><td>200</td><td>69698</td></tr><tr><td>213</td><td>7334</td></tr><tr><td>219</td><td>80571</td></tr></tbody></table></div>"
      ]
     },
     "metadata": {
      "application/vnd.databricks.v1+output": {
       "addedWidgets": {},
       "aggData": [],
       "aggError": "",
       "aggOverflow": false,
       "aggSchema": [],
       "aggSeriesLimitReached": false,
       "aggType": "",
       "arguments": {},
       "columnCustomDisplayInfos": {},
       "data": [
        [
         203,
         39140
        ],
        [
         210,
         45766
        ],
        [
         208,
         52427
        ],
        [
         207,
         56468
        ],
        [
         215,
         137675
        ],
        [
         216,
         18313
        ],
        [
         205,
         59160
        ],
        [
         201,
         32025
        ],
        [
         211,
         18174
        ],
        [
         217,
         45921
        ],
        [
         202,
         58900
        ],
        [
         206,
         26216
        ],
        [
         204,
         31555
        ],
        [
         209,
         9357
        ],
        [
         218,
         46445
        ],
        [
         200,
         69698
        ],
        [
         213,
         7334
        ],
        [
         219,
         80571
        ]
       ],
       "datasetInfos": [],
       "dbfsResultPath": null,
       "isJsonSchema": true,
       "metadata": {},
       "overflow": false,
       "plotOptions": {
        "customPlotOptions": {},
        "displayType": "table",
        "pivotAggregation": null,
        "pivotColumns": null,
        "xColumns": null,
        "yColumns": null
       },
       "removedWidgets": [],
       "schema": [
        {
         "metadata": "{}",
         "name": "hotel_id",
         "type": "\"long\""
        },
        {
         "metadata": "{}",
         "name": "total_revenue",
         "type": "\"long\""
        }
       ],
       "type": "table"
      }
     },
     "output_type": "display_data"
    }
   ],
   "source": [
    "from pyspark.sql.functions import sum\n",
    "\n",
    "# Load the table\n",
    "bookings_df = spark.table(\"default.travel_bookings\")\n",
    "\n",
    "# Compute total revenue per hotel\n",
    "revenue_per_hotel = bookings_df.groupBy(\"hotel_id\") \\\n",
    "    .agg(sum(\"amount_spent\").alias(\"total_revenue\"))\n",
    "\n",
    "display(revenue_per_hotel)\n"
   ]
  },
  {
   "cell_type": "code",
   "execution_count": 0,
   "metadata": {
    "application/vnd.databricks.v1+cell": {
     "cellMetadata": {
      "byteLimit": 2048000,
      "rowLimit": 10000
     },
     "inputWidgets": {},
     "nuid": "368fa3bb-247b-4060-bd5f-c0943aa8d5af",
     "showTitle": false,
     "tableResultSettingsMap": {},
     "title": ""
    }
   },
   "outputs": [
    {
     "output_type": "display_data",
     "data": {
      "text/html": [
       "<style scoped>\n",
       "  .table-result-container {\n",
       "    max-height: 300px;\n",
       "    overflow: auto;\n",
       "  }\n",
       "  table, th, td {\n",
       "    border: 1px solid black;\n",
       "    border-collapse: collapse;\n",
       "  }\n",
       "  th, td {\n",
       "    padding: 5px;\n",
       "  }\n",
       "  th {\n",
       "    text-align: left;\n",
       "  }\n",
       "</style><div class='table-result-container'><table class='table-result'><thead style='background-color: white'><tr><th>city</th><th>avg_stay_duration</th></tr></thead><tbody><tr><td>Bangalore</td><td>5.0476190476190474</td></tr><tr><td>Delhi</td><td>4.8</td></tr><tr><td>Mumbai</td><td>4.761904761904762</td></tr><tr><td>Hyderabad</td><td>4.521739130434782</td></tr></tbody></table></div>"
      ]
     },
     "metadata": {
      "application/vnd.databricks.v1+output": {
       "addedWidgets": {},
       "aggData": [],
       "aggError": "",
       "aggOverflow": false,
       "aggSchema": [],
       "aggSeriesLimitReached": false,
       "aggType": "",
       "arguments": {},
       "columnCustomDisplayInfos": {},
       "data": [
        [
         "Bangalore",
         5.0476190476190474
        ],
        [
         "Delhi",
         4.8
        ],
        [
         "Mumbai",
         4.761904761904762
        ],
        [
         "Hyderabad",
         4.521739130434782
        ]
       ],
       "datasetInfos": [],
       "dbfsResultPath": null,
       "isJsonSchema": true,
       "metadata": {},
       "overflow": false,
       "plotOptions": {
        "customPlotOptions": {},
        "displayType": "table",
        "pivotAggregation": null,
        "pivotColumns": null,
        "xColumns": null,
        "yColumns": null
       },
       "removedWidgets": [],
       "schema": [
        {
         "metadata": "{}",
         "name": "city",
         "type": "\"string\""
        },
        {
         "metadata": "{}",
         "name": "avg_stay_duration",
         "type": "\"double\""
        }
       ],
       "type": "table"
      }
     },
     "output_type": "display_data"
    }
   ],
   "source": [
    "from pyspark.sql.functions import avg\n",
    "\n",
    "# Load the table\n",
    "bookings_df = spark.table(\"default.travel_bookings\")\n",
    "\n",
    "# Calculate average stay duration by city\n",
    "avg_stay_by_city = bookings_df.groupBy(\"city\") \\\n",
    "    .agg(avg(\"stay_duration\").alias(\"avg_stay_duration\"))\n",
    "\n",
    "display(avg_stay_by_city)\n"
   ]
  },
  {
   "cell_type": "code",
   "execution_count": 0,
   "metadata": {
    "application/vnd.databricks.v1+cell": {
     "cellMetadata": {
      "byteLimit": 2048000,
      "rowLimit": 10000
     },
     "inputWidgets": {},
     "nuid": "d45d4c1f-9cf1-4abd-b821-767c9f8e5d2d",
     "showTitle": false,
     "tableResultSettingsMap": {},
     "title": ""
    }
   },
   "outputs": [
    {
     "output_type": "display_data",
     "data": {
      "text/html": [
       "<style scoped>\n",
       "  .table-result-container {\n",
       "    max-height: 300px;\n",
       "    overflow: auto;\n",
       "  }\n",
       "  table, th, td {\n",
       "    border: 1px solid black;\n",
       "    border-collapse: collapse;\n",
       "  }\n",
       "  th, td {\n",
       "    padding: 5px;\n",
       "  }\n",
       "  th {\n",
       "    text-align: left;\n",
       "  }\n",
       "</style><div class='table-result-container'><table class='table-result'><thead style='background-color: white'><tr><th>hotel_id</th><th>cancellation_rate</th></tr></thead><tbody><tr><td>207</td><td>0E-16</td></tr><tr><td>206</td><td>0E-16</td></tr><tr><td>205</td><td>0E-16</td></tr><tr><td>208</td><td>0E-16</td></tr><tr><td>210</td><td>0E-16</td></tr><tr><td>215</td><td>0E-16</td></tr><tr><td>201</td><td>0E-16</td></tr><tr><td>203</td><td>0E-16</td></tr><tr><td>200</td><td>0E-16</td></tr><tr><td>218</td><td>0E-16</td></tr><tr><td>209</td><td>0E-16</td></tr><tr><td>204</td><td>0E-16</td></tr><tr><td>202</td><td>0E-16</td></tr><tr><td>216</td><td>0E-16</td></tr><tr><td>213</td><td>0E-16</td></tr><tr><td>217</td><td>0E-16</td></tr><tr><td>211</td><td>0E-16</td></tr><tr><td>219</td><td>0E-16</td></tr></tbody></table></div>"
      ]
     },
     "metadata": {
      "application/vnd.databricks.v1+output": {
       "addedWidgets": {},
       "aggData": [],
       "aggError": "",
       "aggOverflow": false,
       "aggSchema": [],
       "aggSeriesLimitReached": false,
       "aggType": "",
       "arguments": {},
       "columnCustomDisplayInfos": {},
       "data": [
        [
         207,
         "0E-16"
        ],
        [
         206,
         "0E-16"
        ],
        [
         205,
         "0E-16"
        ],
        [
         208,
         "0E-16"
        ],
        [
         210,
         "0E-16"
        ],
        [
         215,
         "0E-16"
        ],
        [
         201,
         "0E-16"
        ],
        [
         203,
         "0E-16"
        ],
        [
         200,
         "0E-16"
        ],
        [
         218,
         "0E-16"
        ],
        [
         209,
         "0E-16"
        ],
        [
         204,
         "0E-16"
        ],
        [
         202,
         "0E-16"
        ],
        [
         216,
         "0E-16"
        ],
        [
         213,
         "0E-16"
        ],
        [
         217,
         "0E-16"
        ],
        [
         211,
         "0E-16"
        ],
        [
         219,
         "0E-16"
        ]
       ],
       "datasetInfos": [],
       "dbfsResultPath": null,
       "isJsonSchema": true,
       "metadata": {},
       "overflow": false,
       "plotOptions": {
        "customPlotOptions": {},
        "displayType": "table",
        "pivotAggregation": null,
        "pivotColumns": null,
        "xColumns": null,
        "yColumns": null
       },
       "removedWidgets": [],
       "schema": [
        {
         "metadata": "{}",
         "name": "hotel_id",
         "type": "\"long\""
        },
        {
         "metadata": "{}",
         "name": "cancellation_rate",
         "type": "\"decimal(38,16)\""
        }
       ],
       "type": "table"
      }
     },
     "output_type": "display_data"
    }
   ],
   "source": [
    "cancellation_rate_sql = spark.sql(\"\"\"\n",
    "    SELECT \n",
    "        hotel_id,\n",
    "        (COUNT(CASE WHEN status = 'cancelled' THEN 1 END) * 1.0 / COUNT(*)) AS cancellation_rate\n",
    "    FROM default.travel_bookings\n",
    "    GROUP BY hotel_id\n",
    "    ORDER BY cancellation_rate DESC\n",
    "\"\"\")\n",
    "display(cancellation_rate_sql)\n"
   ]
  },
  {
   "cell_type": "code",
   "execution_count": 0,
   "metadata": {
    "application/vnd.databricks.v1+cell": {
     "cellMetadata": {
      "byteLimit": 2048000,
      "rowLimit": 10000
     },
     "inputWidgets": {},
     "nuid": "74c1008a-0462-4b56-ab2d-366503d41ad4",
     "showTitle": false,
     "tableResultSettingsMap": {},
     "title": ""
    }
   },
   "outputs": [
    {
     "output_type": "display_data",
     "data": {
      "text/html": [
       "<style scoped>\n",
       "  .table-result-container {\n",
       "    max-height: 300px;\n",
       "    overflow: auto;\n",
       "  }\n",
       "  table, th, td {\n",
       "    border: 1px solid black;\n",
       "    border-collapse: collapse;\n",
       "  }\n",
       "  th, td {\n",
       "    padding: 5px;\n",
       "  }\n",
       "  th {\n",
       "    text-align: left;\n",
       "  }\n",
       "</style><div class='table-result-container'><table class='table-result'><thead style='background-color: white'><tr><th>month</th><th>city</th><th>total_revenue</th></tr></thead><tbody><tr><td>1</td><td>Bangalore</td><td>21250</td></tr><tr><td>1</td><td>Delhi</td><td>6000</td></tr><tr><td>1</td><td>Hyderabad</td><td>25109</td></tr><tr><td>1</td><td>Mumbai</td><td>43220</td></tr><tr><td>2</td><td>Bangalore</td><td>10862</td></tr><tr><td>2</td><td>Hyderabad</td><td>42299</td></tr><tr><td>2</td><td>Mumbai</td><td>21650</td></tr><tr><td>3</td><td>Bangalore</td><td>27260</td></tr><tr><td>3</td><td>Delhi</td><td>13977</td></tr><tr><td>3</td><td>Hyderabad</td><td>13130</td></tr><tr><td>3</td><td>Mumbai</td><td>42072</td></tr><tr><td>4</td><td>Bangalore</td><td>25425</td></tr><tr><td>4</td><td>Delhi</td><td>13261</td></tr><tr><td>4</td><td>Hyderabad</td><td>25992</td></tr><tr><td>4</td><td>Mumbai</td><td>29122</td></tr><tr><td>5</td><td>Bangalore</td><td>21626</td></tr><tr><td>5</td><td>Delhi</td><td>11996</td></tr><tr><td>5</td><td>Hyderabad</td><td>11348</td></tr><tr><td>5</td><td>Mumbai</td><td>29066</td></tr><tr><td>6</td><td>Bangalore</td><td>23698</td></tr><tr><td>6</td><td>Delhi</td><td>20184</td></tr><tr><td>6</td><td>Hyderabad</td><td>26019</td></tr><tr><td>6</td><td>Mumbai</td><td>11213</td></tr><tr><td>7</td><td>Delhi</td><td>13657</td></tr><tr><td>7</td><td>Hyderabad</td><td>36619</td></tr><tr><td>7</td><td>Mumbai</td><td>7988</td></tr><tr><td>8</td><td>Bangalore</td><td>16527</td></tr><tr><td>8</td><td>Delhi</td><td>19955</td></tr><tr><td>8</td><td>Hyderabad</td><td>37554</td></tr><tr><td>9</td><td>Bangalore</td><td>4143</td></tr><tr><td>9</td><td>Delhi</td><td>16430</td></tr><tr><td>9</td><td>Hyderabad</td><td>14043</td></tr><tr><td>9</td><td>Mumbai</td><td>7104</td></tr><tr><td>10</td><td>Delhi</td><td>16552</td></tr><tr><td>10</td><td>Hyderabad</td><td>20162</td></tr><tr><td>10</td><td>Mumbai</td><td>5440</td></tr><tr><td>11</td><td>Bangalore</td><td>29728</td></tr><tr><td>11</td><td>Delhi</td><td>16397</td></tr><tr><td>11</td><td>Mumbai</td><td>4914</td></tr><tr><td>12</td><td>Bangalore</td><td>25175</td></tr><tr><td>12</td><td>Delhi</td><td>10787</td></tr><tr><td>12</td><td>Mumbai</td><td>16191</td></tr></tbody></table></div>"
      ]
     },
     "metadata": {
      "application/vnd.databricks.v1+output": {
       "addedWidgets": {},
       "aggData": [],
       "aggError": "",
       "aggOverflow": false,
       "aggSchema": [],
       "aggSeriesLimitReached": false,
       "aggType": "",
       "arguments": {},
       "columnCustomDisplayInfos": {},
       "data": [
        [
         1,
         "Bangalore",
         21250
        ],
        [
         1,
         "Delhi",
         6000
        ],
        [
         1,
         "Hyderabad",
         25109
        ],
        [
         1,
         "Mumbai",
         43220
        ],
        [
         2,
         "Bangalore",
         10862
        ],
        [
         2,
         "Hyderabad",
         42299
        ],
        [
         2,
         "Mumbai",
         21650
        ],
        [
         3,
         "Bangalore",
         27260
        ],
        [
         3,
         "Delhi",
         13977
        ],
        [
         3,
         "Hyderabad",
         13130
        ],
        [
         3,
         "Mumbai",
         42072
        ],
        [
         4,
         "Bangalore",
         25425
        ],
        [
         4,
         "Delhi",
         13261
        ],
        [
         4,
         "Hyderabad",
         25992
        ],
        [
         4,
         "Mumbai",
         29122
        ],
        [
         5,
         "Bangalore",
         21626
        ],
        [
         5,
         "Delhi",
         11996
        ],
        [
         5,
         "Hyderabad",
         11348
        ],
        [
         5,
         "Mumbai",
         29066
        ],
        [
         6,
         "Bangalore",
         23698
        ],
        [
         6,
         "Delhi",
         20184
        ],
        [
         6,
         "Hyderabad",
         26019
        ],
        [
         6,
         "Mumbai",
         11213
        ],
        [
         7,
         "Delhi",
         13657
        ],
        [
         7,
         "Hyderabad",
         36619
        ],
        [
         7,
         "Mumbai",
         7988
        ],
        [
         8,
         "Bangalore",
         16527
        ],
        [
         8,
         "Delhi",
         19955
        ],
        [
         8,
         "Hyderabad",
         37554
        ],
        [
         9,
         "Bangalore",
         4143
        ],
        [
         9,
         "Delhi",
         16430
        ],
        [
         9,
         "Hyderabad",
         14043
        ],
        [
         9,
         "Mumbai",
         7104
        ],
        [
         10,
         "Delhi",
         16552
        ],
        [
         10,
         "Hyderabad",
         20162
        ],
        [
         10,
         "Mumbai",
         5440
        ],
        [
         11,
         "Bangalore",
         29728
        ],
        [
         11,
         "Delhi",
         16397
        ],
        [
         11,
         "Mumbai",
         4914
        ],
        [
         12,
         "Bangalore",
         25175
        ],
        [
         12,
         "Delhi",
         10787
        ],
        [
         12,
         "Mumbai",
         16191
        ]
       ],
       "datasetInfos": [],
       "dbfsResultPath": null,
       "isJsonSchema": true,
       "metadata": {},
       "overflow": false,
       "plotOptions": {
        "customPlotOptions": {},
        "displayType": "table",
        "pivotAggregation": null,
        "pivotColumns": null,
        "xColumns": null,
        "yColumns": null
       },
       "removedWidgets": [],
       "schema": [
        {
         "metadata": "{}",
         "name": "month",
         "type": "\"integer\""
        },
        {
         "metadata": "{}",
         "name": "city",
         "type": "\"string\""
        },
        {
         "metadata": "{}",
         "name": "total_revenue",
         "type": "\"long\""
        }
       ],
       "type": "table"
      }
     },
     "output_type": "display_data"
    }
   ],
   "source": [
    "seasonal_trends_sql = spark.sql(\"\"\"\n",
    "    SELECT \n",
    "        MONTH(booking_date) AS month,\n",
    "        city,\n",
    "        SUM(amount_spent) AS total_revenue\n",
    "    FROM default.travel_bookings\n",
    "    GROUP BY MONTH(booking_date), city\n",
    "    ORDER BY month, city\n",
    "\"\"\")\n",
    "display(seasonal_trends_sql)\n"
   ]
  },
  {
   "cell_type": "code",
   "execution_count": 0,
   "metadata": {
    "application/vnd.databricks.v1+cell": {
     "cellMetadata": {
      "byteLimit": 2048000,
      "rowLimit": 10000
     },
     "inputWidgets": {},
     "nuid": "37fe01cf-efdf-4537-801e-2844aaae778f",
     "showTitle": false,
     "tableResultSettingsMap": {},
     "title": ""
    }
   },
   "outputs": [
    {
     "output_type": "display_data",
     "data": {
      "text/html": [
       "<style scoped>\n",
       "  .table-result-container {\n",
       "    max-height: 300px;\n",
       "    overflow: auto;\n",
       "  }\n",
       "  table, th, td {\n",
       "    border: 1px solid black;\n",
       "    border-collapse: collapse;\n",
       "  }\n",
       "  th, td {\n",
       "    padding: 5px;\n",
       "  }\n",
       "  th {\n",
       "    text-align: left;\n",
       "  }\n",
       "</style><div class='table-result-container'><table class='table-result'><thead style='background-color: white'><tr><th>hotel_id</th><th>total_revenue</th></tr></thead><tbody><tr><td>215</td><td>137675</td></tr><tr><td>219</td><td>80571</td></tr><tr><td>200</td><td>69698</td></tr><tr><td>205</td><td>59160</td></tr><tr><td>202</td><td>58900</td></tr><tr><td>207</td><td>56468</td></tr><tr><td>208</td><td>52427</td></tr><tr><td>218</td><td>46445</td></tr><tr><td>217</td><td>45921</td></tr><tr><td>210</td><td>45766</td></tr><tr><td>203</td><td>39140</td></tr><tr><td>201</td><td>32025</td></tr><tr><td>204</td><td>31555</td></tr><tr><td>206</td><td>26216</td></tr><tr><td>216</td><td>18313</td></tr><tr><td>211</td><td>18174</td></tr><tr><td>209</td><td>9357</td></tr><tr><td>213</td><td>7334</td></tr></tbody></table></div>"
      ]
     },
     "metadata": {
      "application/vnd.databricks.v1+output": {
       "addedWidgets": {},
       "aggData": [],
       "aggError": "",
       "aggOverflow": false,
       "aggSchema": [],
       "aggSeriesLimitReached": false,
       "aggType": "",
       "arguments": {},
       "columnCustomDisplayInfos": {},
       "data": [
        [
         215,
         137675
        ],
        [
         219,
         80571
        ],
        [
         200,
         69698
        ],
        [
         205,
         59160
        ],
        [
         202,
         58900
        ],
        [
         207,
         56468
        ],
        [
         208,
         52427
        ],
        [
         218,
         46445
        ],
        [
         217,
         45921
        ],
        [
         210,
         45766
        ],
        [
         203,
         39140
        ],
        [
         201,
         32025
        ],
        [
         204,
         31555
        ],
        [
         206,
         26216
        ],
        [
         216,
         18313
        ],
        [
         211,
         18174
        ],
        [
         209,
         9357
        ],
        [
         213,
         7334
        ]
       ],
       "datasetInfos": [],
       "dbfsResultPath": null,
       "isJsonSchema": true,
       "metadata": {},
       "overflow": false,
       "plotOptions": {
        "customPlotOptions": {},
        "displayType": "table",
        "pivotAggregation": null,
        "pivotColumns": null,
        "xColumns": null,
        "yColumns": null
       },
       "removedWidgets": [],
       "schema": [
        {
         "metadata": "{}",
         "name": "hotel_id",
         "type": "\"long\""
        },
        {
         "metadata": "{}",
         "name": "total_revenue",
         "type": "\"long\""
        }
       ],
       "type": "table"
      }
     },
     "output_type": "display_data"
    },
    {
     "output_type": "display_data",
     "data": {
      "text/plain": [
       "Databricks visualization. Run in Databricks to view."
      ]
     },
     "metadata": {
      "application/vnd.databricks.v1.subcommand+json": {
       "baseErrorDetails": null,
       "bindings": {},
       "collapsed": false,
       "command": "%python\n__backend_agg_display_orig = display\n__backend_agg_dfs = []\ndef __backend_agg_display_new(df):\n    __backend_agg_df_modules = [\"pandas.core.frame\", \"databricks.koalas.frame\", \"pyspark.sql.dataframe\", \"pyspark.pandas.frame\", \"pyspark.sql.connect.dataframe\"]\n    if (type(df).__module__ in __backend_agg_df_modules and type(df).__name__ == 'DataFrame') or isinstance(df, list):\n        __backend_agg_dfs.append(df)\n\ndisplay = __backend_agg_display_new\n\ndef __backend_agg_user_code_fn():\n    import base64\n    exec(base64.standard_b64decode(\"ZnJvbSBweXNwYXJrLnNxbC5mdW5jdGlvbnMgaW1wb3J0IHN1bQoKcmV2ZW51ZV9wZXJfaG90ZWwgPSBzcGFyay50YWJsZSgiZGVmYXVsdC50cmF2ZWxfYm9va2luZ3MiKSBcCiAgICAuZ3JvdXBCeSgiaG90ZWxfaWQiKSBcCiAgICAuYWdnKHN1bSgiYW1vdW50X3NwZW50IikuYWxpYXMoInRvdGFsX3JldmVudWUiKSkgXAogICAgLm9yZGVyQnkoInRvdGFsX3JldmVudWUiLCBhc2NlbmRpbmc9RmFsc2UpCgojIERhdGFicmlja3MgYnVpbHQtaW4gY2hhcnQKZGlzcGxheShyZXZlbnVlX3Blcl9ob3RlbCkgICAjIGNob29zZSAiQmFyIGNoYXJ0IiB3aXRoIGhvdGVsX2lkIG9uIFgsIHRvdGFsX3JldmVudWUgb24gWQo=\").decode())\n\ntry:\n    # run user code\n    __backend_agg_user_code_fn()\n\n    #reset display function\n    display = __backend_agg_display_orig\n\n    if len(__backend_agg_dfs) > 0:\n        # create a temp view\n        if type(__backend_agg_dfs[0]).__module__ == \"databricks.koalas.frame\":\n            # koalas dataframe\n            __backend_agg_dfs[0].to_spark().createOrReplaceTempView(\"DatabricksView0a83eeb\")\n        elif type(__backend_agg_dfs[0]).__module__ == \"pandas.core.frame\" or isinstance(__backend_agg_dfs[0], list):\n            # pandas dataframe\n            spark.createDataFrame(__backend_agg_dfs[0]).createOrReplaceTempView(\"DatabricksView0a83eeb\")\n        else:\n            __backend_agg_dfs[0].createOrReplaceTempView(\"DatabricksView0a83eeb\")\n        #run backend agg\n        display(spark.sql(\"\"\"WITH q AS (select * from DatabricksView0a83eeb) SELECT `hotel_id`,SUM(`total_revenue`) `column_e7a07695354` FROM q GROUP BY `hotel_id`\"\"\"))\n    else:\n        displayHTML(\"dataframe no longer exists. If you're using dataframe.display(), use display(dataframe) instead.\")\n\n\nfinally:\n    spark.sql(\"drop view if exists DatabricksView0a83eeb\")\n    display = __backend_agg_display_orig\n    del __backend_agg_display_new\n    del __backend_agg_display_orig\n    del __backend_agg_dfs\n    del __backend_agg_user_code_fn\n\n",
       "commandTitle": "Visualization 1",
       "commandType": "auto",
       "commandVersion": 0,
       "commentThread": [],
       "commentsVisible": false,
       "contentSha256Hex": null,
       "customPlotOptions": {
        "redashChart": [
         {
          "key": "type",
          "value": "CHART"
         },
         {
          "key": "options",
          "value": {
           "alignYAxesAtZero": true,
           "coefficient": 1,
           "columnConfigurationMap": {
            "x": {
             "column": "hotel_id",
             "id": "column_e7a07695353"
            },
            "y": [
             {
              "column": "total_revenue",
              "id": "column_e7a07695354",
              "transform": "SUM"
             }
            ]
           },
           "dateTimeFormat": "DD/MM/YYYY HH:mm",
           "direction": {
            "type": "counterclockwise"
           },
           "error_y": {
            "type": "data",
            "visible": true
           },
           "globalSeriesType": "column",
           "isAggregationOn": true,
           "legend": {
            "traceorder": "normal"
           },
           "missingValuesAsZero": true,
           "numberFormat": "0,0.[00000]",
           "percentFormat": "0[.]00%",
           "series": {
            "error_y": {
             "type": "data",
             "visible": true
            },
            "stacking": null
           },
           "seriesOptions": {
            "column_e7a07695354": {
             "name": "total_revenue",
             "type": "column",
             "yAxis": 0
            },
            "total_revenue": {
             "name": "total_revenue",
             "type": "column",
             "yAxis": 0
            }
           },
           "showDataLabels": false,
           "sizemode": "diameter",
           "sortX": true,
           "sortY": true,
           "swappedAxes": false,
           "textFormat": "",
           "useAggregationsUi": true,
           "valuesOptions": {},
           "version": 2,
           "xAxis": {
            "labels": {
             "enabled": true
            },
            "type": "-"
           },
           "yAxis": [
            {
             "type": "-"
            },
            {
             "opposite": true,
             "type": "-"
            }
           ]
          }
         }
        ]
       },
       "datasetPreviewNameToCmdIdMap": {},
       "diffDeletes": [],
       "diffInserts": [],
       "displayType": "redashChart",
       "error": null,
       "errorDetails": null,
       "errorSummary": null,
       "errorTraceType": null,
       "finishTime": 0,
       "globalVars": {},
       "guid": "",
       "height": "auto",
       "hideCommandCode": false,
       "hideCommandResult": false,
       "iPythonMetadata": null,
       "inputWidgets": {},
       "isLockedInExamMode": false,
       "latestUser": "a user",
       "latestUserId": null,
       "listResultMetadata": null,
       "metadata": {},
       "nuid": "efd99a36-9297-41fd-af38-6cef0e2e0b56",
       "origId": 0,
       "parentHierarchy": [],
       "pivotAggregation": null,
       "pivotColumns": null,
       "position": 110.0,
       "resultDbfsErrorMessage": null,
       "resultDbfsStatus": "INLINED_IN_TREE",
       "results": null,
       "showCommandTitle": false,
       "startTime": 0,
       "state": "input",
       "streamStates": {},
       "subcommandOptions": {
        "queryPlan": {
         "groups": [
          {
           "column": "hotel_id",
           "type": "column"
          }
         ],
         "selects": [
          {
           "column": "hotel_id",
           "type": "column"
          },
          {
           "alias": "column_e7a07695354",
           "args": [
            {
             "column": "total_revenue",
             "type": "column"
            }
           ],
           "function": "SUM",
           "type": "function"
          }
         ]
        }
       },
       "submitTime": 0,
       "subtype": "tableResultSubCmd.visualization",
       "tableResultIndex": 0,
       "tableResultSettingsMap": {},
       "useConsistentColors": false,
       "version": "CommandV1",
       "width": "auto",
       "workflows": [],
       "xColumns": null,
       "yColumns": null
      }
     },
     "output_type": "display_data"
    }
   ],
   "source": [
    "from pyspark.sql.functions import sum\n",
    "\n",
    "revenue_per_hotel = spark.table(\"default.travel_bookings\") \\\n",
    "    .groupBy(\"hotel_id\") \\\n",
    "    .agg(sum(\"amount_spent\").alias(\"total_revenue\")) \\\n",
    "    .orderBy(\"total_revenue\", ascending=False)\n",
    "\n",
    "# Databricks built-in chart\n",
    "display(revenue_per_hotel)   # choose \"Bar chart\" with hotel_id on X, total_revenue on Y\n"
   ]
  },
  {
   "cell_type": "code",
   "execution_count": 0,
   "metadata": {
    "application/vnd.databricks.v1+cell": {
     "cellMetadata": {
      "byteLimit": 2048000,
      "rowLimit": 10000
     },
     "inputWidgets": {},
     "nuid": "d33f0a5d-bc8a-4ca1-9dec-5cfcaff5921e",
     "showTitle": false,
     "tableResultSettingsMap": {},
     "title": ""
    }
   },
   "outputs": [
    {
     "output_type": "display_data",
     "data": {
      "text/html": [
       "<style scoped>\n",
       "  .table-result-container {\n",
       "    max-height: 300px;\n",
       "    overflow: auto;\n",
       "  }\n",
       "  table, th, td {\n",
       "    border: 1px solid black;\n",
       "    border-collapse: collapse;\n",
       "  }\n",
       "  th, td {\n",
       "    padding: 5px;\n",
       "  }\n",
       "  th {\n",
       "    text-align: left;\n",
       "  }\n",
       "</style><div class='table-result-container'><table class='table-result'><thead style='background-color: white'><tr><th>city</th><th>avg_stay_duration</th></tr></thead><tbody><tr><td>Bangalore</td><td>5.0476190476190474</td></tr><tr><td>Delhi</td><td>4.8</td></tr><tr><td>Mumbai</td><td>4.761904761904762</td></tr><tr><td>Hyderabad</td><td>4.521739130434782</td></tr></tbody></table></div>"
      ]
     },
     "metadata": {
      "application/vnd.databricks.v1+output": {
       "addedWidgets": {},
       "aggData": [],
       "aggError": "",
       "aggOverflow": false,
       "aggSchema": [],
       "aggSeriesLimitReached": false,
       "aggType": "",
       "arguments": {},
       "columnCustomDisplayInfos": {},
       "data": [
        [
         "Bangalore",
         5.0476190476190474
        ],
        [
         "Delhi",
         4.8
        ],
        [
         "Mumbai",
         4.761904761904762
        ],
        [
         "Hyderabad",
         4.521739130434782
        ]
       ],
       "datasetInfos": [],
       "dbfsResultPath": null,
       "isJsonSchema": true,
       "metadata": {},
       "overflow": false,
       "plotOptions": {
        "customPlotOptions": {},
        "displayType": "table",
        "pivotAggregation": null,
        "pivotColumns": null,
        "xColumns": null,
        "yColumns": null
       },
       "removedWidgets": [],
       "schema": [
        {
         "metadata": "{}",
         "name": "city",
         "type": "\"string\""
        },
        {
         "metadata": "{}",
         "name": "avg_stay_duration",
         "type": "\"double\""
        }
       ],
       "type": "table"
      }
     },
     "output_type": "display_data"
    },
    {
     "output_type": "display_data",
     "data": {
      "text/plain": [
       "Databricks visualization. Run in Databricks to view."
      ]
     },
     "metadata": {
      "application/vnd.databricks.v1.subcommand+json": {
       "baseErrorDetails": null,
       "bindings": {},
       "collapsed": false,
       "command": "%python\n__backend_agg_display_orig = display\n__backend_agg_dfs = []\ndef __backend_agg_display_new(df):\n    __backend_agg_df_modules = [\"pandas.core.frame\", \"databricks.koalas.frame\", \"pyspark.sql.dataframe\", \"pyspark.pandas.frame\", \"pyspark.sql.connect.dataframe\"]\n    if (type(df).__module__ in __backend_agg_df_modules and type(df).__name__ == 'DataFrame') or isinstance(df, list):\n        __backend_agg_dfs.append(df)\n\ndisplay = __backend_agg_display_new\n\ndef __backend_agg_user_code_fn():\n    import base64\n    exec(base64.standard_b64decode(\"ZnJvbSBweXNwYXJrLnNxbC5mdW5jdGlvbnMgaW1wb3J0IGF2ZwoKYXZnX3N0YXlfYnlfY2l0eSA9IHNwYXJrLnRhYmxlKCJkZWZhdWx0LnRyYXZlbF9ib29raW5ncyIpIFwKICAgIC5ncm91cEJ5KCJjaXR5IikgXAogICAgLmFnZyhhdmcoInN0YXlfZHVyYXRpb24iKS5hbGlhcygiYXZnX3N0YXlfZHVyYXRpb24iKSkgXAogICAgLm9yZGVyQnkoImF2Z19zdGF5X2R1cmF0aW9uIiwgYXNjZW5kaW5nPUZhbHNlKQoKZGlzcGxheShhdmdfc3RheV9ieV9jaXR5KSAgICMgY2hvb3NlICJCYXIgY2hhcnQiCg==\").decode())\n\ntry:\n    # run user code\n    __backend_agg_user_code_fn()\n\n    #reset display function\n    display = __backend_agg_display_orig\n\n    if len(__backend_agg_dfs) > 0:\n        # create a temp view\n        if type(__backend_agg_dfs[0]).__module__ == \"databricks.koalas.frame\":\n            # koalas dataframe\n            __backend_agg_dfs[0].to_spark().createOrReplaceTempView(\"DatabricksViewd63438f\")\n        elif type(__backend_agg_dfs[0]).__module__ == \"pandas.core.frame\" or isinstance(__backend_agg_dfs[0], list):\n            # pandas dataframe\n            spark.createDataFrame(__backend_agg_dfs[0]).createOrReplaceTempView(\"DatabricksViewd63438f\")\n        else:\n            __backend_agg_dfs[0].createOrReplaceTempView(\"DatabricksViewd63438f\")\n        #run backend agg\n        display(spark.sql(\"\"\"WITH q AS (select * from DatabricksViewd63438f) SELECT `city`,SUM(`avg_stay_duration`) `column_e7a07695262` FROM q GROUP BY `city`\"\"\"))\n    else:\n        displayHTML(\"dataframe no longer exists. If you're using dataframe.display(), use display(dataframe) instead.\")\n\n\nfinally:\n    spark.sql(\"drop view if exists DatabricksViewd63438f\")\n    display = __backend_agg_display_orig\n    del __backend_agg_display_new\n    del __backend_agg_display_orig\n    del __backend_agg_dfs\n    del __backend_agg_user_code_fn\n\n",
       "commandTitle": "Visualization 1",
       "commandType": "auto",
       "commandVersion": 0,
       "commentThread": [],
       "commentsVisible": false,
       "contentSha256Hex": null,
       "customPlotOptions": {
        "redashChart": [
         {
          "key": "type",
          "value": "CHART"
         },
         {
          "key": "options",
          "value": {
           "alignYAxesAtZero": true,
           "coefficient": 1,
           "columnConfigurationMap": {
            "x": {
             "column": "city",
             "id": "column_e7a07695261"
            },
            "y": [
             {
              "column": "avg_stay_duration",
              "id": "column_e7a07695262",
              "transform": "SUM"
             }
            ]
           },
           "dateTimeFormat": "DD/MM/YYYY HH:mm",
           "direction": {
            "type": "counterclockwise"
           },
           "error_y": {
            "type": "data",
            "visible": true
           },
           "globalSeriesType": "column",
           "legend": {
            "traceorder": "normal"
           },
           "missingValuesAsZero": true,
           "numberFormat": "0,0.[00000]",
           "percentFormat": "0[.]00%",
           "series": {
            "error_y": {
             "type": "data",
             "visible": true
            },
            "stacking": null
           },
           "seriesOptions": {
            "column_e7a07695262": {
             "name": "avg_stay_duration",
             "yAxis": 0
            }
           },
           "showDataLabels": false,
           "sizemode": "diameter",
           "sortX": true,
           "sortY": true,
           "swappedAxes": true,
           "textFormat": "",
           "useAggregationsUi": true,
           "valuesOptions": {},
           "version": 2,
           "xAxis": {
            "labels": {
             "enabled": true
            },
            "type": "-"
           },
           "yAxis": [
            {
             "type": "-"
            },
            {
             "opposite": true,
             "type": "-"
            }
           ]
          }
         }
        ]
       },
       "datasetPreviewNameToCmdIdMap": {},
       "diffDeletes": [],
       "diffInserts": [],
       "displayType": "redashChart",
       "error": null,
       "errorDetails": null,
       "errorSummary": null,
       "errorTraceType": null,
       "finishTime": 0,
       "globalVars": {},
       "guid": "",
       "height": "auto",
       "hideCommandCode": false,
       "hideCommandResult": false,
       "iPythonMetadata": null,
       "inputWidgets": {},
       "isLockedInExamMode": false,
       "latestUser": "a user",
       "latestUserId": null,
       "listResultMetadata": null,
       "metadata": {},
       "nuid": "cf71c1be-f2b7-4292-8c63-ee20c8ab41a3",
       "origId": 0,
       "parentHierarchy": [],
       "pivotAggregation": null,
       "pivotColumns": null,
       "position": 111.0,
       "resultDbfsErrorMessage": null,
       "resultDbfsStatus": "INLINED_IN_TREE",
       "results": null,
       "showCommandTitle": false,
       "startTime": 0,
       "state": "input",
       "streamStates": {},
       "subcommandOptions": {
        "queryPlan": {
         "groups": [
          {
           "column": "city",
           "type": "column"
          }
         ],
         "selects": [
          {
           "column": "city",
           "type": "column"
          },
          {
           "alias": "column_e7a07695262",
           "args": [
            {
             "column": "avg_stay_duration",
             "type": "column"
            }
           ],
           "function": "SUM",
           "type": "function"
          }
         ]
        }
       },
       "submitTime": 0,
       "subtype": "tableResultSubCmd.visualization",
       "tableResultIndex": 0,
       "tableResultSettingsMap": {},
       "useConsistentColors": false,
       "version": "CommandV1",
       "width": "auto",
       "workflows": [],
       "xColumns": null,
       "yColumns": null
      }
     },
     "output_type": "display_data"
    }
   ],
   "source": [
    "from pyspark.sql.functions import avg\n",
    "\n",
    "avg_stay_by_city = spark.table(\"default.travel_bookings\") \\\n",
    "    .groupBy(\"city\") \\\n",
    "    .agg(avg(\"stay_duration\").alias(\"avg_stay_duration\")) \\\n",
    "    .orderBy(\"avg_stay_duration\", ascending=False)\n",
    "\n",
    "display(avg_stay_by_city)   # choose \"Bar chart\"\n"
   ]
  },
  {
   "cell_type": "code",
   "execution_count": 0,
   "metadata": {
    "application/vnd.databricks.v1+cell": {
     "cellMetadata": {
      "byteLimit": 2048000,
      "rowLimit": 10000
     },
     "inputWidgets": {},
     "nuid": "afc8405e-cb8a-4796-a69e-ac9ce7e6d5fb",
     "showTitle": false,
     "tableResultSettingsMap": {},
     "title": ""
    }
   },
   "outputs": [
    {
     "output_type": "display_data",
     "data": {
      "text/html": [
       "<style scoped>\n",
       "  .table-result-container {\n",
       "    max-height: 300px;\n",
       "    overflow: auto;\n",
       "  }\n",
       "  table, th, td {\n",
       "    border: 1px solid black;\n",
       "    border-collapse: collapse;\n",
       "  }\n",
       "  th, td {\n",
       "    padding: 5px;\n",
       "  }\n",
       "  th {\n",
       "    text-align: left;\n",
       "  }\n",
       "</style><div class='table-result-container'><table class='table-result'><thead style='background-color: white'><tr><th>hotel_id</th><th>cancellation_rate</th></tr></thead><tbody><tr><td>207</td><td>0.0</td></tr><tr><td>206</td><td>0.0</td></tr><tr><td>205</td><td>0.0</td></tr><tr><td>208</td><td>0.0</td></tr><tr><td>210</td><td>0.0</td></tr><tr><td>215</td><td>0.0</td></tr><tr><td>201</td><td>0.0</td></tr><tr><td>203</td><td>0.0</td></tr><tr><td>200</td><td>0.0</td></tr><tr><td>218</td><td>0.0</td></tr><tr><td>209</td><td>0.0</td></tr><tr><td>204</td><td>0.0</td></tr><tr><td>202</td><td>0.0</td></tr><tr><td>216</td><td>0.0</td></tr><tr><td>213</td><td>0.0</td></tr><tr><td>217</td><td>0.0</td></tr><tr><td>211</td><td>0.0</td></tr><tr><td>219</td><td>0.0</td></tr></tbody></table></div>"
      ]
     },
     "metadata": {
      "application/vnd.databricks.v1+output": {
       "addedWidgets": {},
       "aggData": [],
       "aggError": "",
       "aggOverflow": false,
       "aggSchema": [],
       "aggSeriesLimitReached": false,
       "aggType": "",
       "arguments": {},
       "columnCustomDisplayInfos": {},
       "data": [
        [
         207,
         0.0
        ],
        [
         206,
         0.0
        ],
        [
         205,
         0.0
        ],
        [
         208,
         0.0
        ],
        [
         210,
         0.0
        ],
        [
         215,
         0.0
        ],
        [
         201,
         0.0
        ],
        [
         203,
         0.0
        ],
        [
         200,
         0.0
        ],
        [
         218,
         0.0
        ],
        [
         209,
         0.0
        ],
        [
         204,
         0.0
        ],
        [
         202,
         0.0
        ],
        [
         216,
         0.0
        ],
        [
         213,
         0.0
        ],
        [
         217,
         0.0
        ],
        [
         211,
         0.0
        ],
        [
         219,
         0.0
        ]
       ],
       "datasetInfos": [],
       "dbfsResultPath": null,
       "isJsonSchema": true,
       "metadata": {},
       "overflow": false,
       "plotOptions": {
        "customPlotOptions": {},
        "displayType": "table",
        "pivotAggregation": null,
        "pivotColumns": null,
        "xColumns": null,
        "yColumns": null
       },
       "removedWidgets": [],
       "schema": [
        {
         "metadata": "{}",
         "name": "hotel_id",
         "type": "\"long\""
        },
        {
         "metadata": "{}",
         "name": "cancellation_rate",
         "type": "\"double\""
        }
       ],
       "type": "table"
      }
     },
     "output_type": "display_data"
    },
    {
     "output_type": "display_data",
     "data": {
      "text/plain": [
       "Databricks visualization. Run in Databricks to view."
      ]
     },
     "metadata": {
      "application/vnd.databricks.v1.subcommand+json": {
       "baseErrorDetails": null,
       "bindings": {},
       "collapsed": false,
       "command": "%python\n__backend_agg_display_orig = display\n__backend_agg_dfs = []\ndef __backend_agg_display_new(df):\n    __backend_agg_df_modules = [\"pandas.core.frame\", \"databricks.koalas.frame\", \"pyspark.sql.dataframe\", \"pyspark.pandas.frame\", \"pyspark.sql.connect.dataframe\"]\n    if (type(df).__module__ in __backend_agg_df_modules and type(df).__name__ == 'DataFrame') or isinstance(df, list):\n        __backend_agg_dfs.append(df)\n\ndisplay = __backend_agg_display_new\n\ndef __backend_agg_user_code_fn():\n    import base64\n    exec(base64.standard_b64decode(\"ZnJvbSBweXNwYXJrLnNxbC5mdW5jdGlvbnMgaW1wb3J0IGNvbCwgY291bnQsIHdoZW4KCmNhbmNlbGxhdGlvbl9yYXRlID0gc3BhcmsudGFibGUoImRlZmF1bHQudHJhdmVsX2Jvb2tpbmdzIikgXAogICAgLmdyb3VwQnkoImhvdGVsX2lkIikgXAogICAgLmFnZygKICAgICAgICAoY291bnQod2hlbihjb2woInN0YXR1cyIpID09ICJjYW5jZWxsZWQiLCBUcnVlKSkgLwogICAgICAgICBjb3VudCgiKiIpKS5hbGlhcygiY2FuY2VsbGF0aW9uX3JhdGUiKQogICAgKSBcCiAgICAub3JkZXJCeShjb2woImNhbmNlbGxhdGlvbl9yYXRlIikuZGVzYygpKQoKZGlzcGxheShjYW5jZWxsYXRpb25fcmF0ZSkgICAjIGNob29zZSAiQmFyIGNoYXJ0Igo=\").decode())\n\ntry:\n    # run user code\n    __backend_agg_user_code_fn()\n\n    #reset display function\n    display = __backend_agg_display_orig\n\n    if len(__backend_agg_dfs) > 0:\n        # create a temp view\n        if type(__backend_agg_dfs[0]).__module__ == \"databricks.koalas.frame\":\n            # koalas dataframe\n            __backend_agg_dfs[0].to_spark().createOrReplaceTempView(\"DatabricksView3fc17a5\")\n        elif type(__backend_agg_dfs[0]).__module__ == \"pandas.core.frame\" or isinstance(__backend_agg_dfs[0], list):\n            # pandas dataframe\n            spark.createDataFrame(__backend_agg_dfs[0]).createOrReplaceTempView(\"DatabricksView3fc17a5\")\n        else:\n            __backend_agg_dfs[0].createOrReplaceTempView(\"DatabricksView3fc17a5\")\n        #run backend agg\n        display(spark.sql(\"\"\"WITH q AS (select * from DatabricksView3fc17a5) SELECT `hotel_id`,`cancellation_rate` FROM q\"\"\"))\n    else:\n        displayHTML(\"dataframe no longer exists. If you're using dataframe.display(), use display(dataframe) instead.\")\n\n\nfinally:\n    spark.sql(\"drop view if exists DatabricksView3fc17a5\")\n    display = __backend_agg_display_orig\n    del __backend_agg_display_new\n    del __backend_agg_display_orig\n    del __backend_agg_dfs\n    del __backend_agg_user_code_fn\n\n",
       "commandTitle": "Visualization 1",
       "commandType": "auto",
       "commandVersion": 0,
       "commentThread": [],
       "commentsVisible": false,
       "contentSha256Hex": null,
       "customPlotOptions": {
        "redashChart": [
         {
          "key": "type",
          "value": "CHART"
         },
         {
          "key": "options",
          "value": {
           "alignYAxesAtZero": true,
           "coefficient": 1,
           "columnConfigurationMap": {
            "x": {
             "column": "hotel_id",
             "id": "column_e7a07695295"
            },
            "y": [
             {
              "column": "cancellation_rate",
              "id": "column_e7a07695296"
             }
            ]
           },
           "dateTimeFormat": "DD/MM/YYYY HH:mm",
           "direction": {
            "type": "counterclockwise"
           },
           "error_y": {
            "type": "data",
            "visible": true
           },
           "globalSeriesType": "scatter",
           "legend": {
            "traceorder": "normal"
           },
           "missingValuesAsZero": true,
           "numberFormat": "0,0.[00000]",
           "percentFormat": "0[.]00%",
           "series": {
            "error_y": {
             "type": "data",
             "visible": true
            },
            "stacking": null
           },
           "seriesOptions": {
            "column_e7a07695296": {
             "name": "cancellation_rate",
             "yAxis": 0
            }
           },
           "showDataLabels": false,
           "sizemode": "diameter",
           "sortX": true,
           "sortY": true,
           "swappedAxes": false,
           "textFormat": "",
           "useAggregationsUi": true,
           "valuesOptions": {},
           "version": 2,
           "xAxis": {
            "labels": {
             "enabled": true
            },
            "type": "-"
           },
           "yAxis": [
            {
             "type": "-"
            },
            {
             "opposite": true,
             "type": "-"
            }
           ]
          }
         }
        ]
       },
       "datasetPreviewNameToCmdIdMap": {},
       "diffDeletes": [],
       "diffInserts": [],
       "displayType": "redashChart",
       "error": null,
       "errorDetails": null,
       "errorSummary": null,
       "errorTraceType": null,
       "finishTime": 0,
       "globalVars": {},
       "guid": "",
       "height": "auto",
       "hideCommandCode": false,
       "hideCommandResult": false,
       "iPythonMetadata": null,
       "inputWidgets": {},
       "isLockedInExamMode": false,
       "latestUser": "a user",
       "latestUserId": null,
       "listResultMetadata": null,
       "metadata": {},
       "nuid": "81b755de-45c1-4fc9-bdb1-28f974c33b2c",
       "origId": 0,
       "parentHierarchy": [],
       "pivotAggregation": null,
       "pivotColumns": null,
       "position": 112.0,
       "resultDbfsErrorMessage": null,
       "resultDbfsStatus": "INLINED_IN_TREE",
       "results": null,
       "showCommandTitle": false,
       "startTime": 0,
       "state": "input",
       "streamStates": {},
       "subcommandOptions": {
        "queryPlan": {
         "selects": [
          {
           "column": "hotel_id",
           "type": "column"
          },
          {
           "column": "cancellation_rate",
           "type": "column"
          }
         ]
        }
       },
       "submitTime": 0,
       "subtype": "tableResultSubCmd.visualization",
       "tableResultIndex": 0,
       "tableResultSettingsMap": {},
       "useConsistentColors": false,
       "version": "CommandV1",
       "width": "auto",
       "workflows": [],
       "xColumns": null,
       "yColumns": null
      }
     },
     "output_type": "display_data"
    }
   ],
   "source": [
    "from pyspark.sql.functions import col, count, when\n",
    "\n",
    "cancellation_rate = spark.table(\"default.travel_bookings\") \\\n",
    "    .groupBy(\"hotel_id\") \\\n",
    "    .agg(\n",
    "        (count(when(col(\"status\") == \"cancelled\", True)) /\n",
    "         count(\"*\")).alias(\"cancellation_rate\")\n",
    "    ) \\\n",
    "    .orderBy(col(\"cancellation_rate\").desc())\n",
    "\n",
    "display(cancellation_rate)   # choose \"Bar chart\"\n"
   ]
  },
  {
   "cell_type": "code",
   "execution_count": 0,
   "metadata": {
    "application/vnd.databricks.v1+cell": {
     "cellMetadata": {
      "byteLimit": 2048000,
      "rowLimit": 10000
     },
     "inputWidgets": {},
     "nuid": "bee82aaa-508f-4243-ae68-cd06b44f8141",
     "showTitle": false,
     "tableResultSettingsMap": {},
     "title": ""
    }
   },
   "outputs": [
    {
     "output_type": "display_data",
     "data": {
      "text/html": [
       "<style scoped>\n",
       "  .table-result-container {\n",
       "    max-height: 300px;\n",
       "    overflow: auto;\n",
       "  }\n",
       "  table, th, td {\n",
       "    border: 1px solid black;\n",
       "    border-collapse: collapse;\n",
       "  }\n",
       "  th, td {\n",
       "    padding: 5px;\n",
       "  }\n",
       "  th {\n",
       "    text-align: left;\n",
       "  }\n",
       "</style><div class='table-result-container'><table class='table-result'><thead style='background-color: white'><tr><th>month</th><th>city</th><th>total_revenue</th></tr></thead><tbody><tr><td>1</td><td>Bangalore</td><td>21250</td></tr><tr><td>1</td><td>Delhi</td><td>6000</td></tr><tr><td>1</td><td>Hyderabad</td><td>25109</td></tr><tr><td>1</td><td>Mumbai</td><td>43220</td></tr><tr><td>2</td><td>Bangalore</td><td>10862</td></tr><tr><td>2</td><td>Hyderabad</td><td>42299</td></tr><tr><td>2</td><td>Mumbai</td><td>21650</td></tr><tr><td>3</td><td>Bangalore</td><td>27260</td></tr><tr><td>3</td><td>Delhi</td><td>13977</td></tr><tr><td>3</td><td>Hyderabad</td><td>13130</td></tr><tr><td>3</td><td>Mumbai</td><td>42072</td></tr><tr><td>4</td><td>Bangalore</td><td>25425</td></tr><tr><td>4</td><td>Delhi</td><td>13261</td></tr><tr><td>4</td><td>Hyderabad</td><td>25992</td></tr><tr><td>4</td><td>Mumbai</td><td>29122</td></tr><tr><td>5</td><td>Bangalore</td><td>21626</td></tr><tr><td>5</td><td>Delhi</td><td>11996</td></tr><tr><td>5</td><td>Hyderabad</td><td>11348</td></tr><tr><td>5</td><td>Mumbai</td><td>29066</td></tr><tr><td>6</td><td>Bangalore</td><td>23698</td></tr><tr><td>6</td><td>Delhi</td><td>20184</td></tr><tr><td>6</td><td>Hyderabad</td><td>26019</td></tr><tr><td>6</td><td>Mumbai</td><td>11213</td></tr><tr><td>7</td><td>Delhi</td><td>13657</td></tr><tr><td>7</td><td>Hyderabad</td><td>36619</td></tr><tr><td>7</td><td>Mumbai</td><td>7988</td></tr><tr><td>8</td><td>Bangalore</td><td>16527</td></tr><tr><td>8</td><td>Delhi</td><td>19955</td></tr><tr><td>8</td><td>Hyderabad</td><td>37554</td></tr><tr><td>9</td><td>Bangalore</td><td>4143</td></tr><tr><td>9</td><td>Delhi</td><td>16430</td></tr><tr><td>9</td><td>Hyderabad</td><td>14043</td></tr><tr><td>9</td><td>Mumbai</td><td>7104</td></tr><tr><td>10</td><td>Delhi</td><td>16552</td></tr><tr><td>10</td><td>Hyderabad</td><td>20162</td></tr><tr><td>10</td><td>Mumbai</td><td>5440</td></tr><tr><td>11</td><td>Bangalore</td><td>29728</td></tr><tr><td>11</td><td>Delhi</td><td>16397</td></tr><tr><td>11</td><td>Mumbai</td><td>4914</td></tr><tr><td>12</td><td>Bangalore</td><td>25175</td></tr><tr><td>12</td><td>Delhi</td><td>10787</td></tr><tr><td>12</td><td>Mumbai</td><td>16191</td></tr></tbody></table></div>"
      ]
     },
     "metadata": {
      "application/vnd.databricks.v1+output": {
       "addedWidgets": {},
       "aggData": [],
       "aggError": "",
       "aggOverflow": false,
       "aggSchema": [],
       "aggSeriesLimitReached": false,
       "aggType": "",
       "arguments": {},
       "columnCustomDisplayInfos": {},
       "data": [
        [
         1,
         "Bangalore",
         21250
        ],
        [
         1,
         "Delhi",
         6000
        ],
        [
         1,
         "Hyderabad",
         25109
        ],
        [
         1,
         "Mumbai",
         43220
        ],
        [
         2,
         "Bangalore",
         10862
        ],
        [
         2,
         "Hyderabad",
         42299
        ],
        [
         2,
         "Mumbai",
         21650
        ],
        [
         3,
         "Bangalore",
         27260
        ],
        [
         3,
         "Delhi",
         13977
        ],
        [
         3,
         "Hyderabad",
         13130
        ],
        [
         3,
         "Mumbai",
         42072
        ],
        [
         4,
         "Bangalore",
         25425
        ],
        [
         4,
         "Delhi",
         13261
        ],
        [
         4,
         "Hyderabad",
         25992
        ],
        [
         4,
         "Mumbai",
         29122
        ],
        [
         5,
         "Bangalore",
         21626
        ],
        [
         5,
         "Delhi",
         11996
        ],
        [
         5,
         "Hyderabad",
         11348
        ],
        [
         5,
         "Mumbai",
         29066
        ],
        [
         6,
         "Bangalore",
         23698
        ],
        [
         6,
         "Delhi",
         20184
        ],
        [
         6,
         "Hyderabad",
         26019
        ],
        [
         6,
         "Mumbai",
         11213
        ],
        [
         7,
         "Delhi",
         13657
        ],
        [
         7,
         "Hyderabad",
         36619
        ],
        [
         7,
         "Mumbai",
         7988
        ],
        [
         8,
         "Bangalore",
         16527
        ],
        [
         8,
         "Delhi",
         19955
        ],
        [
         8,
         "Hyderabad",
         37554
        ],
        [
         9,
         "Bangalore",
         4143
        ],
        [
         9,
         "Delhi",
         16430
        ],
        [
         9,
         "Hyderabad",
         14043
        ],
        [
         9,
         "Mumbai",
         7104
        ],
        [
         10,
         "Delhi",
         16552
        ],
        [
         10,
         "Hyderabad",
         20162
        ],
        [
         10,
         "Mumbai",
         5440
        ],
        [
         11,
         "Bangalore",
         29728
        ],
        [
         11,
         "Delhi",
         16397
        ],
        [
         11,
         "Mumbai",
         4914
        ],
        [
         12,
         "Bangalore",
         25175
        ],
        [
         12,
         "Delhi",
         10787
        ],
        [
         12,
         "Mumbai",
         16191
        ]
       ],
       "datasetInfos": [],
       "dbfsResultPath": null,
       "isJsonSchema": true,
       "metadata": {},
       "overflow": false,
       "plotOptions": {
        "customPlotOptions": {},
        "displayType": "table",
        "pivotAggregation": null,
        "pivotColumns": null,
        "xColumns": null,
        "yColumns": null
       },
       "removedWidgets": [],
       "schema": [
        {
         "metadata": "{}",
         "name": "month",
         "type": "\"integer\""
        },
        {
         "metadata": "{}",
         "name": "city",
         "type": "\"string\""
        },
        {
         "metadata": "{}",
         "name": "total_revenue",
         "type": "\"long\""
        }
       ],
       "type": "table"
      }
     },
     "output_type": "display_data"
    },
    {
     "output_type": "display_data",
     "data": {
      "text/plain": [
       "Databricks visualization. Run in Databricks to view."
      ]
     },
     "metadata": {
      "application/vnd.databricks.v1.subcommand+json": {
       "baseErrorDetails": null,
       "bindings": {},
       "collapsed": false,
       "command": "%python\n__backend_agg_display_orig = display\n__backend_agg_dfs = []\ndef __backend_agg_display_new(df):\n    __backend_agg_df_modules = [\"pandas.core.frame\", \"databricks.koalas.frame\", \"pyspark.sql.dataframe\", \"pyspark.pandas.frame\", \"pyspark.sql.connect.dataframe\"]\n    if (type(df).__module__ in __backend_agg_df_modules and type(df).__name__ == 'DataFrame') or isinstance(df, list):\n        __backend_agg_dfs.append(df)\n\ndisplay = __backend_agg_display_new\n\ndef __backend_agg_user_code_fn():\n    import base64\n    exec(base64.standard_b64decode(\"ZnJvbSBweXNwYXJrLnNxbC5mdW5jdGlvbnMgaW1wb3J0IG1vbnRoLCBzdW0KCnNlYXNvbmFsX3RyZW5kcyA9IHNwYXJrLnRhYmxlKCJkZWZhdWx0LnRyYXZlbF9ib29raW5ncyIpIFwKICAgIC5ncm91cEJ5KG1vbnRoKCJib29raW5nX2RhdGUiKS5hbGlhcygibW9udGgiKSwgImNpdHkiKSBcCiAgICAuYWdnKHN1bSgiYW1vdW50X3NwZW50IikuYWxpYXMoInRvdGFsX3JldmVudWUiKSkgXAogICAgLm9yZGVyQnkoIm1vbnRoIiwgImNpdHkiKQoKZGlzcGxheShzZWFzb25hbF90cmVuZHMpICAgIyBjaG9vc2UgIkxpbmUgY2hhcnQiIHdpdGggbW9udGggb24gWCwgcmV2ZW51ZSBvbiBZLCBjaXR5IGFzIHNlcmllcwo=\").decode())\n\ntry:\n    # run user code\n    __backend_agg_user_code_fn()\n\n    #reset display function\n    display = __backend_agg_display_orig\n\n    if len(__backend_agg_dfs) > 0:\n        # create a temp view\n        if type(__backend_agg_dfs[0]).__module__ == \"databricks.koalas.frame\":\n            # koalas dataframe\n            __backend_agg_dfs[0].to_spark().createOrReplaceTempView(\"DatabricksViewee84c62\")\n        elif type(__backend_agg_dfs[0]).__module__ == \"pandas.core.frame\" or isinstance(__backend_agg_dfs[0], list):\n            # pandas dataframe\n            spark.createDataFrame(__backend_agg_dfs[0]).createOrReplaceTempView(\"DatabricksViewee84c62\")\n        else:\n            __backend_agg_dfs[0].createOrReplaceTempView(\"DatabricksViewee84c62\")\n        #run backend agg\n        display(spark.sql(\"\"\"WITH q AS (select * from DatabricksViewee84c62) SELECT `month`,SUM(`total_revenue`) `column_e7a07695324`,`city` FROM q GROUP BY `city`,`month`\"\"\"))\n    else:\n        displayHTML(\"dataframe no longer exists. If you're using dataframe.display(), use display(dataframe) instead.\")\n\n\nfinally:\n    spark.sql(\"drop view if exists DatabricksViewee84c62\")\n    display = __backend_agg_display_orig\n    del __backend_agg_display_new\n    del __backend_agg_display_orig\n    del __backend_agg_dfs\n    del __backend_agg_user_code_fn\n\n",
       "commandTitle": "Visualization 1",
       "commandType": "auto",
       "commandVersion": 0,
       "commentThread": [],
       "commentsVisible": false,
       "contentSha256Hex": null,
       "customPlotOptions": {
        "redashChart": [
         {
          "key": "type",
          "value": "CHART"
         },
         {
          "key": "options",
          "value": {
           "alignYAxesAtZero": true,
           "coefficient": 1,
           "columnConfigurationMap": {
            "series": {
             "column": "city",
             "id": "column_e7a07695325"
            },
            "x": {
             "column": "month",
             "id": "column_e7a07695323"
            },
            "y": [
             {
              "column": "total_revenue",
              "id": "column_e7a07695324",
              "transform": "SUM"
             }
            ]
           },
           "dateTimeFormat": "DD/MM/YYYY HH:mm",
           "direction": {
            "type": "counterclockwise"
           },
           "error_y": {
            "type": "data",
            "visible": true
           },
           "globalSeriesType": "column",
           "isAggregationOn": true,
           "legend": {
            "traceorder": "normal"
           },
           "missingValuesAsZero": true,
           "numberFormat": "0,0.[00000]",
           "percentFormat": "0[.]00%",
           "series": {
            "error_y": {
             "type": "data",
             "visible": true
            },
            "stacking": null
           },
           "seriesOptions": {
            "column_e7a07695324": {
             "name": "total_revenue",
             "type": "column",
             "yAxis": 0
            }
           },
           "showDataLabels": false,
           "sizemode": "diameter",
           "sortX": true,
           "sortY": true,
           "swappedAxes": false,
           "textFormat": "",
           "useAggregationsUi": true,
           "valuesOptions": {},
           "version": 2,
           "xAxis": {
            "labels": {
             "enabled": true
            },
            "type": "-"
           },
           "yAxis": [
            {
             "type": "-"
            },
            {
             "opposite": true,
             "type": "-"
            }
           ]
          }
         }
        ]
       },
       "datasetPreviewNameToCmdIdMap": {},
       "diffDeletes": [],
       "diffInserts": [],
       "displayType": "redashChart",
       "error": null,
       "errorDetails": null,
       "errorSummary": null,
       "errorTraceType": null,
       "finishTime": 0,
       "globalVars": {},
       "guid": "",
       "height": "auto",
       "hideCommandCode": false,
       "hideCommandResult": false,
       "iPythonMetadata": null,
       "inputWidgets": {},
       "isLockedInExamMode": false,
       "latestUser": "a user",
       "latestUserId": null,
       "listResultMetadata": null,
       "metadata": {},
       "nuid": "269566ad-5f82-4aff-95fe-7391f0fd2b62",
       "origId": 0,
       "parentHierarchy": [],
       "pivotAggregation": null,
       "pivotColumns": null,
       "position": 113.0,
       "resultDbfsErrorMessage": null,
       "resultDbfsStatus": "INLINED_IN_TREE",
       "results": null,
       "showCommandTitle": false,
       "startTime": 0,
       "state": "input",
       "streamStates": {},
       "subcommandOptions": {
        "queryPlan": {
         "groups": [
          {
           "column": "month",
           "type": "column"
          },
          {
           "column": "city",
           "type": "column"
          }
         ],
         "selects": [
          {
           "column": "month",
           "type": "column"
          },
          {
           "alias": "column_e7a07695324",
           "args": [
            {
             "column": "total_revenue",
             "type": "column"
            }
           ],
           "function": "SUM",
           "type": "function"
          },
          {
           "column": "city",
           "type": "column"
          }
         ]
        }
       },
       "submitTime": 0,
       "subtype": "tableResultSubCmd.visualization",
       "tableResultIndex": 0,
       "tableResultSettingsMap": {},
       "useConsistentColors": false,
       "version": "CommandV1",
       "width": "auto",
       "workflows": [],
       "xColumns": null,
       "yColumns": null
      }
     },
     "output_type": "display_data"
    }
   ],
   "source": [
    "from pyspark.sql.functions import month, sum\n",
    "\n",
    "seasonal_trends = spark.table(\"default.travel_bookings\") \\\n",
    "    .groupBy(month(\"booking_date\").alias(\"month\"), \"city\") \\\n",
    "    .agg(sum(\"amount_spent\").alias(\"total_revenue\")) \\\n",
    "    .orderBy(\"month\", \"city\")\n",
    "\n",
    "display(seasonal_trends)   # choose \"Line chart\" with month on X, revenue on Y, city as series\n"
   ]
  },
  {
   "cell_type": "code",
   "execution_count": 0,
   "metadata": {
    "application/vnd.databricks.v1+cell": {
     "cellMetadata": {},
     "inputWidgets": {},
     "nuid": "591913e9-151f-4d93-ac4a-478968abf704",
     "showTitle": false,
     "tableResultSettingsMap": {},
     "title": ""
    }
   },
   "outputs": [],
   "source": []
  }
 ],
 "metadata": {
  "application/vnd.databricks.v1+notebook": {
   "computePreferences": null,
   "dashboards": [
    {
     "elements": [
      {
       "dashboardResultIndex": null,
       "elementNUID": "cf71c1be-f2b7-4292-8c63-ee20c8ab41a3",
       "elementType": "command",
       "guid": "0c5d77c3-1303-41e1-8549-bf343266954e",
       "options": null,
       "position": {
        "height": 6,
        "width": 12,
        "x": 0,
        "y": 0,
        "z": null
       },
       "resultIndex": null
      },
      {
       "dashboardResultIndex": null,
       "elementNUID": "81b755de-45c1-4fc9-bdb1-28f974c33b2c",
       "elementType": "command",
       "guid": "c485cf4d-1f86-4503-bfd8-7fc2c19ba7d9",
       "options": null,
       "position": {
        "height": 6,
        "width": 12,
        "x": 0,
        "y": 12,
        "z": null
       },
       "resultIndex": null
      },
      {
       "dashboardResultIndex": null,
       "elementNUID": "269566ad-5f82-4aff-95fe-7391f0fd2b62",
       "elementType": "command",
       "guid": "cd25360f-6230-43e0-a240-e2e94b40278b",
       "options": null,
       "position": {
        "height": 6,
        "width": 12,
        "x": 0,
        "y": 6,
        "z": null
       },
       "resultIndex": null
      },
      {
       "dashboardResultIndex": null,
       "elementNUID": "efd99a36-9297-41fd-af38-6cef0e2e0b56",
       "elementType": "command",
       "guid": "fbf3f306-bd77-4b8d-9b11-96b820cd0f2d",
       "options": null,
       "position": null,
       "resultIndex": null
      }
     ],
     "globalVars": {},
     "guid": "",
     "layoutOption": {
      "grid": true,
      "stack": true
     },
     "nuid": "d999cc4b-8f37-4f6a-9aa6-c12278cdb12e",
     "origId": 5251072424362516,
     "title": "Dashboard",
     "version": "DashboardViewV1",
     "width": 1024
    }
   ],
   "environmentMetadata": {
    "base_environment": "",
    "environment_version": "3"
   },
   "inputWidgetPreferences": null,
   "language": "python",
   "notebookMetadata": {
    "pythonIndentUnit": 4
   },
   "notebookName": "Untitled Notebook 2025-09-03 15:18:02",
   "widgets": {}
  },
  "language_info": {
   "name": "python"
  }
 },
 "nbformat": 4,
 "nbformat_minor": 0
}